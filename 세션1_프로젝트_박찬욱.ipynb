{
  "nbformat": 4,
  "nbformat_minor": 0,
  "metadata": {
    "colab": {
      "provenance": [],
      "collapsed_sections": [
        "YeRSNYg0ZUPp"
      ],
      "toc_visible": true
    },
    "kernelspec": {
      "name": "python3",
      "display_name": "Python 3"
    },
    "language_info": {
      "name": "python"
    }
  },
  "cells": [
    {
      "cell_type": "markdown",
      "source": [
        "# 필요한 라이브러리 가져오기"
      ],
      "metadata": {
        "id": "84J9yGrJZONQ"
      }
    },
    {
      "cell_type": "code",
      "execution_count": 1,
      "metadata": {
        "id": "aWlIC2y_cD4Y"
      },
      "outputs": [],
      "source": [
        "import numpy as np\n",
        "import pandas as pd\n",
        "import matplotlib.pyplot as plt\n",
        "from urllib.request import Request\n",
        "from urllib.request import urlopen\n",
        "from bs4 import BeautifulSoup\n",
        "import urllib.request\n",
        "import re\n",
        "import time\n",
        "from bs4 import BeautifulSoup as Soup\n",
        "import re"
      ]
    },
    {
      "cell_type": "markdown",
      "source": [
        "# 데이터 불러오기 및 확인"
      ],
      "metadata": {
        "id": "YeRSNYg0ZUPp"
      }
    },
    {
      "cell_type": "code",
      "source": [
        "df = pd.read_csv(\"/content/vgames2.csv\", index_col = 0)"
      ],
      "metadata": {
        "id": "e_0qRz1cnxhV"
      },
      "execution_count": 2,
      "outputs": []
    },
    {
      "cell_type": "code",
      "source": [
        "df.info()"
      ],
      "metadata": {
        "colab": {
          "base_uri": "https://localhost:8080/",
          "height": 0
        },
        "id": "cYZ2zNbRn4Vk",
        "outputId": "f9d67a73-c0bc-4417-ef6d-a335916816b8"
      },
      "execution_count": 3,
      "outputs": [
        {
          "output_type": "stream",
          "name": "stdout",
          "text": [
            "<class 'pandas.core.frame.DataFrame'>\n",
            "Int64Index: 16598 entries, 1 to 16598\n",
            "Data columns (total 9 columns):\n",
            " #   Column       Non-Null Count  Dtype \n",
            "---  ------       --------------  ----- \n",
            " 0   Name         16598 non-null  object\n",
            " 1   Platform     16598 non-null  object\n",
            " 2   Year         16327 non-null  object\n",
            " 3   Genre        16548 non-null  object\n",
            " 4   Publisher    16540 non-null  object\n",
            " 5   NA_Sales     16598 non-null  object\n",
            " 6   EU_Sales     16598 non-null  object\n",
            " 7   JP_Sales     16598 non-null  object\n",
            " 8   Other_Sales  16596 non-null  object\n",
            "dtypes: object(9)\n",
            "memory usage: 1.3+ MB\n"
          ]
        }
      ]
    },
    {
      "cell_type": "code",
      "source": [
        "df.head()"
      ],
      "metadata": {
        "colab": {
          "base_uri": "https://localhost:8080/",
          "height": 0
        },
        "id": "uzCx5fDroimD",
        "outputId": "21f23166-931b-4ba3-861d-6a18f501e9f1"
      },
      "execution_count": 4,
      "outputs": [
        {
          "output_type": "execute_result",
          "data": {
            "text/plain": [
              "                                             Name Platform  Year      Genre  \\\n",
              "1                    Candace Kane's Candy Factory       DS  2008     Action   \n",
              "2                                  The Munchables      Wii  2009     Action   \n",
              "3  Otome wa Oanesama Boku ni Koi Shiteru Portable      PSP  2010  Adventure   \n",
              "4                Deal or No Deal: Special Edition       DS  2010       Misc   \n",
              "5       Ben 10 Ultimate Alien: Cosmic Destruction      PS3  2010   Platform   \n",
              "\n",
              "            Publisher NA_Sales EU_Sales JP_Sales Other_Sales  \n",
              "1           Destineer     0.04        0        0           0  \n",
              "2  Namco Bandai Games     0.17        0        0        0.01  \n",
              "3           Alchemist        0        0     0.02           0  \n",
              "4           Zoo Games     0.04        0        0           0  \n",
              "5         D3Publisher     0.12     0.09        0        0.04  "
            ],
            "text/html": [
              "\n",
              "  <div id=\"df-878f7c30-7077-488e-8af4-a63ffe23b495\">\n",
              "    <div class=\"colab-df-container\">\n",
              "      <div>\n",
              "<style scoped>\n",
              "    .dataframe tbody tr th:only-of-type {\n",
              "        vertical-align: middle;\n",
              "    }\n",
              "\n",
              "    .dataframe tbody tr th {\n",
              "        vertical-align: top;\n",
              "    }\n",
              "\n",
              "    .dataframe thead th {\n",
              "        text-align: right;\n",
              "    }\n",
              "</style>\n",
              "<table border=\"1\" class=\"dataframe\">\n",
              "  <thead>\n",
              "    <tr style=\"text-align: right;\">\n",
              "      <th></th>\n",
              "      <th>Name</th>\n",
              "      <th>Platform</th>\n",
              "      <th>Year</th>\n",
              "      <th>Genre</th>\n",
              "      <th>Publisher</th>\n",
              "      <th>NA_Sales</th>\n",
              "      <th>EU_Sales</th>\n",
              "      <th>JP_Sales</th>\n",
              "      <th>Other_Sales</th>\n",
              "    </tr>\n",
              "  </thead>\n",
              "  <tbody>\n",
              "    <tr>\n",
              "      <th>1</th>\n",
              "      <td>Candace Kane's Candy Factory</td>\n",
              "      <td>DS</td>\n",
              "      <td>2008</td>\n",
              "      <td>Action</td>\n",
              "      <td>Destineer</td>\n",
              "      <td>0.04</td>\n",
              "      <td>0</td>\n",
              "      <td>0</td>\n",
              "      <td>0</td>\n",
              "    </tr>\n",
              "    <tr>\n",
              "      <th>2</th>\n",
              "      <td>The Munchables</td>\n",
              "      <td>Wii</td>\n",
              "      <td>2009</td>\n",
              "      <td>Action</td>\n",
              "      <td>Namco Bandai Games</td>\n",
              "      <td>0.17</td>\n",
              "      <td>0</td>\n",
              "      <td>0</td>\n",
              "      <td>0.01</td>\n",
              "    </tr>\n",
              "    <tr>\n",
              "      <th>3</th>\n",
              "      <td>Otome wa Oanesama Boku ni Koi Shiteru Portable</td>\n",
              "      <td>PSP</td>\n",
              "      <td>2010</td>\n",
              "      <td>Adventure</td>\n",
              "      <td>Alchemist</td>\n",
              "      <td>0</td>\n",
              "      <td>0</td>\n",
              "      <td>0.02</td>\n",
              "      <td>0</td>\n",
              "    </tr>\n",
              "    <tr>\n",
              "      <th>4</th>\n",
              "      <td>Deal or No Deal: Special Edition</td>\n",
              "      <td>DS</td>\n",
              "      <td>2010</td>\n",
              "      <td>Misc</td>\n",
              "      <td>Zoo Games</td>\n",
              "      <td>0.04</td>\n",
              "      <td>0</td>\n",
              "      <td>0</td>\n",
              "      <td>0</td>\n",
              "    </tr>\n",
              "    <tr>\n",
              "      <th>5</th>\n",
              "      <td>Ben 10 Ultimate Alien: Cosmic Destruction</td>\n",
              "      <td>PS3</td>\n",
              "      <td>2010</td>\n",
              "      <td>Platform</td>\n",
              "      <td>D3Publisher</td>\n",
              "      <td>0.12</td>\n",
              "      <td>0.09</td>\n",
              "      <td>0</td>\n",
              "      <td>0.04</td>\n",
              "    </tr>\n",
              "  </tbody>\n",
              "</table>\n",
              "</div>\n",
              "      <button class=\"colab-df-convert\" onclick=\"convertToInteractive('df-878f7c30-7077-488e-8af4-a63ffe23b495')\"\n",
              "              title=\"Convert this dataframe to an interactive table.\"\n",
              "              style=\"display:none;\">\n",
              "        \n",
              "  <svg xmlns=\"http://www.w3.org/2000/svg\" height=\"24px\"viewBox=\"0 0 24 24\"\n",
              "       width=\"24px\">\n",
              "    <path d=\"M0 0h24v24H0V0z\" fill=\"none\"/>\n",
              "    <path d=\"M18.56 5.44l.94 2.06.94-2.06 2.06-.94-2.06-.94-.94-2.06-.94 2.06-2.06.94zm-11 1L8.5 8.5l.94-2.06 2.06-.94-2.06-.94L8.5 2.5l-.94 2.06-2.06.94zm10 10l.94 2.06.94-2.06 2.06-.94-2.06-.94-.94-2.06-.94 2.06-2.06.94z\"/><path d=\"M17.41 7.96l-1.37-1.37c-.4-.4-.92-.59-1.43-.59-.52 0-1.04.2-1.43.59L10.3 9.45l-7.72 7.72c-.78.78-.78 2.05 0 2.83L4 21.41c.39.39.9.59 1.41.59.51 0 1.02-.2 1.41-.59l7.78-7.78 2.81-2.81c.8-.78.8-2.07 0-2.86zM5.41 20L4 18.59l7.72-7.72 1.47 1.35L5.41 20z\"/>\n",
              "  </svg>\n",
              "      </button>\n",
              "      \n",
              "  <style>\n",
              "    .colab-df-container {\n",
              "      display:flex;\n",
              "      flex-wrap:wrap;\n",
              "      gap: 12px;\n",
              "    }\n",
              "\n",
              "    .colab-df-convert {\n",
              "      background-color: #E8F0FE;\n",
              "      border: none;\n",
              "      border-radius: 50%;\n",
              "      cursor: pointer;\n",
              "      display: none;\n",
              "      fill: #1967D2;\n",
              "      height: 32px;\n",
              "      padding: 0 0 0 0;\n",
              "      width: 32px;\n",
              "    }\n",
              "\n",
              "    .colab-df-convert:hover {\n",
              "      background-color: #E2EBFA;\n",
              "      box-shadow: 0px 1px 2px rgba(60, 64, 67, 0.3), 0px 1px 3px 1px rgba(60, 64, 67, 0.15);\n",
              "      fill: #174EA6;\n",
              "    }\n",
              "\n",
              "    [theme=dark] .colab-df-convert {\n",
              "      background-color: #3B4455;\n",
              "      fill: #D2E3FC;\n",
              "    }\n",
              "\n",
              "    [theme=dark] .colab-df-convert:hover {\n",
              "      background-color: #434B5C;\n",
              "      box-shadow: 0px 1px 3px 1px rgba(0, 0, 0, 0.15);\n",
              "      filter: drop-shadow(0px 1px 2px rgba(0, 0, 0, 0.3));\n",
              "      fill: #FFFFFF;\n",
              "    }\n",
              "  </style>\n",
              "\n",
              "      <script>\n",
              "        const buttonEl =\n",
              "          document.querySelector('#df-878f7c30-7077-488e-8af4-a63ffe23b495 button.colab-df-convert');\n",
              "        buttonEl.style.display =\n",
              "          google.colab.kernel.accessAllowed ? 'block' : 'none';\n",
              "\n",
              "        async function convertToInteractive(key) {\n",
              "          const element = document.querySelector('#df-878f7c30-7077-488e-8af4-a63ffe23b495');\n",
              "          const dataTable =\n",
              "            await google.colab.kernel.invokeFunction('convertToInteractive',\n",
              "                                                     [key], {});\n",
              "          if (!dataTable) return;\n",
              "\n",
              "          const docLinkHtml = 'Like what you see? Visit the ' +\n",
              "            '<a target=\"_blank\" href=https://colab.research.google.com/notebooks/data_table.ipynb>data table notebook</a>'\n",
              "            + ' to learn more about interactive tables.';\n",
              "          element.innerHTML = '';\n",
              "          dataTable['output_type'] = 'display_data';\n",
              "          await google.colab.output.renderOutput(dataTable, element);\n",
              "          const docLink = document.createElement('div');\n",
              "          docLink.innerHTML = docLinkHtml;\n",
              "          element.appendChild(docLink);\n",
              "        }\n",
              "      </script>\n",
              "    </div>\n",
              "  </div>\n",
              "  "
            ]
          },
          "metadata": {},
          "execution_count": 4
        }
      ]
    },
    {
      "cell_type": "markdown",
      "source": [
        "# 전처리"
      ],
      "metadata": {
        "id": "gm9j-BClarJg"
      }
    },
    {
      "cell_type": "markdown",
      "source": [
        "## Name"
      ],
      "metadata": {
        "id": "Pakurh2BZig4"
      }
    },
    {
      "cell_type": "markdown",
      "source": [
        "게임 이름에서 괄호는 지운다."
      ],
      "metadata": {
        "id": "yH9h4KW9xEJK"
      }
    },
    {
      "cell_type": "code",
      "source": [
        "df.Name = df.Name.str.split('(').str[0].str.rstrip()"
      ],
      "metadata": {
        "id": "cBsdBmu5xPsx"
      },
      "execution_count": 5,
      "outputs": []
    },
    {
      "cell_type": "markdown",
      "source": [
        "## Platform"
      ],
      "metadata": {
        "id": "yvHeDOfjZptZ"
      }
    },
    {
      "cell_type": "markdown",
      "source": [
        "Platform을 object에서 category 형식으로 바꾼다."
      ],
      "metadata": {
        "id": "_7A2TTsR4tCg"
      }
    },
    {
      "cell_type": "code",
      "source": [
        "df[\"Platform\"].astype(\"category\").cat.categories"
      ],
      "metadata": {
        "colab": {
          "base_uri": "https://localhost:8080/",
          "height": 0
        },
        "id": "eiNxi0xO4zJG",
        "outputId": "caa0cc2f-e355-425b-e93e-49d2259d0ddf"
      },
      "execution_count": 6,
      "outputs": [
        {
          "output_type": "execute_result",
          "data": {
            "text/plain": [
              "Index(['2007', '2010', '2600', '3DO', '3DS', 'DC', 'DS', 'GB', 'GBA', 'GC',\n",
              "       'GEN', 'GG', 'N64', 'NES', 'NG', 'PC', 'PCFX', 'PS', 'PS2', 'PS3',\n",
              "       'PS4', 'PSP', 'PSV', 'SAT', 'SCD', 'SNES', 'TG16', 'WS', 'Wii', 'WiiU',\n",
              "       'X360', 'XB', 'XOne'],\n",
              "      dtype='object')"
            ]
          },
          "metadata": {},
          "execution_count": 6
        }
      ]
    },
    {
      "cell_type": "markdown",
      "source": [
        "Platform의 값이 오타가 있거나 platform에 맞지 않는 데이터가 있을 수 있다.\n",
        "\n",
        "이중에서, 먼저 오류값을 처리하기 위해 각 데이터의 수를 나타내보기로 한다."
      ],
      "metadata": {
        "id": "WWaJ71yG6pKY"
      }
    },
    {
      "cell_type": "code",
      "source": [
        "pd.crosstab(index = df.Platform, columns = \"count\").plot.bar(legend = False, ylim=(0,200))\n",
        "plt.axhline(20, color = 'r')\n",
        "plt.show()"
      ],
      "metadata": {
        "colab": {
          "base_uri": "https://localhost:8080/",
          "height": 300
        },
        "id": "6iR-ZuuCeoco",
        "outputId": "4923deb2-dd77-4b0a-c682-0eeb9b677548"
      },
      "execution_count": 7,
      "outputs": [
        {
          "output_type": "display_data",
          "data": {
            "text/plain": [
              "<Figure size 432x288 with 1 Axes>"
            ],
            "image/png": "[encoded data removed]"
          },
          "metadata": {
            "needs_background": "light"
          }
        }
      ]
    },
    {
      "cell_type": "markdown",
      "source": [
        "대다수의 플랫폼은 200 이상의 데이터를 가지고 있다.<br>\n",
        "이중 20 이상의 데이터를 가진 플랫폼명은 오류가 없는 것으로 파악하고, 20 미만의 데이터를 살펴보자."
      ],
      "metadata": {
        "id": "JAdvNqG6bKvA"
      }
    },
    {
      "cell_type": "code",
      "source": [
        "df.groupby(\"Platform\").filter(lambda x: len(x) < 20).head()"
      ],
      "metadata": {
        "colab": {
          "base_uri": "https://localhost:8080/",
          "height": 206
        },
        "id": "zPqdLLhYcc2_",
        "outputId": "19d0785f-3464-41de-e9c7-7813b0f8af5f"
      },
      "execution_count": 8,
      "outputs": [
        {
          "output_type": "execute_result",
          "data": {
            "text/plain": [
              "                                                  Name Platform  Year  \\\n",
              "1035  Formula One World Championship: Beyond the Limit      SCD  1994   \n",
              "2326                                     Final Fantasy       WS  2000   \n",
              "2353             Super Robot Taisen Compact 2 Dai-1-Bu       WS  2000   \n",
              "2525                                   Samurai Spirits       NG  1994   \n",
              "3320                                Samurai Shodown II       NG  1994   \n",
              "\n",
              "             Genre           Publisher NA_Sales EU_Sales JP_Sales Other_Sales  \n",
              "1035        Racing                Sega        0        0     0.07           0  \n",
              "2326  Role-Playing          SquareSoft        0        0     0.51           0  \n",
              "2353      Strategy  Namco Bandai Games        0        0     0.17           0  \n",
              "2525      Fighting                 SNK        0        0      0.2           0  \n",
              "3320      Fighting                 SNK        0        0     0.25           0  "
            ],
            "text/html": [
              "\n",
              "  <div id=\"df-451a22ee-72e7-4e51-abde-79dfef151d9e\">\n",
              "    <div class=\"colab-df-container\">\n",
              "      <div>\n",
              "<style scoped>\n",
              "    .dataframe tbody tr th:only-of-type {\n",
              "        vertical-align: middle;\n",
              "    }\n",
              "\n",
              "    .dataframe tbody tr th {\n",
              "        vertical-align: top;\n",
              "    }\n",
              "\n",
              "    .dataframe thead th {\n",
              "        text-align: right;\n",
              "    }\n",
              "</style>\n",
              "<table border=\"1\" class=\"dataframe\">\n",
              "  <thead>\n",
              "    <tr style=\"text-align: right;\">\n",
              "      <th></th>\n",
              "      <th>Name</th>\n",
              "      <th>Platform</th>\n",
              "      <th>Year</th>\n",
              "      <th>Genre</th>\n",
              "      <th>Publisher</th>\n",
              "      <th>NA_Sales</th>\n",
              "      <th>EU_Sales</th>\n",
              "      <th>JP_Sales</th>\n",
              "      <th>Other_Sales</th>\n",
              "    </tr>\n",
              "  </thead>\n",
              "  <tbody>\n",
              "    <tr>\n",
              "      <th>1035</th>\n",
              "      <td>Formula One World Championship: Beyond the Limit</td>\n",
              "      <td>SCD</td>\n",
              "      <td>1994</td>\n",
              "      <td>Racing</td>\n",
              "      <td>Sega</td>\n",
              "      <td>0</td>\n",
              "      <td>0</td>\n",
              "      <td>0.07</td>\n",
              "      <td>0</td>\n",
              "    </tr>\n",
              "    <tr>\n",
              "      <th>2326</th>\n",
              "      <td>Final Fantasy</td>\n",
              "      <td>WS</td>\n",
              "      <td>2000</td>\n",
              "      <td>Role-Playing</td>\n",
              "      <td>SquareSoft</td>\n",
              "      <td>0</td>\n",
              "      <td>0</td>\n",
              "      <td>0.51</td>\n",
              "      <td>0</td>\n",
              "    </tr>\n",
              "    <tr>\n",
              "      <th>2353</th>\n",
              "      <td>Super Robot Taisen Compact 2 Dai-1-Bu</td>\n",
              "      <td>WS</td>\n",
              "      <td>2000</td>\n",
              "      <td>Strategy</td>\n",
              "      <td>Namco Bandai Games</td>\n",
              "      <td>0</td>\n",
              "      <td>0</td>\n",
              "      <td>0.17</td>\n",
              "      <td>0</td>\n",
              "    </tr>\n",
              "    <tr>\n",
              "      <th>2525</th>\n",
              "      <td>Samurai Spirits</td>\n",
              "      <td>NG</td>\n",
              "      <td>1994</td>\n",
              "      <td>Fighting</td>\n",
              "      <td>SNK</td>\n",
              "      <td>0</td>\n",
              "      <td>0</td>\n",
              "      <td>0.2</td>\n",
              "      <td>0</td>\n",
              "    </tr>\n",
              "    <tr>\n",
              "      <th>3320</th>\n",
              "      <td>Samurai Shodown II</td>\n",
              "      <td>NG</td>\n",
              "      <td>1994</td>\n",
              "      <td>Fighting</td>\n",
              "      <td>SNK</td>\n",
              "      <td>0</td>\n",
              "      <td>0</td>\n",
              "      <td>0.25</td>\n",
              "      <td>0</td>\n",
              "    </tr>\n",
              "  </tbody>\n",
              "</table>\n",
              "</div>\n",
              "      <button class=\"colab-df-convert\" onclick=\"convertToInteractive('df-451a22ee-72e7-4e51-abde-79dfef151d9e')\"\n",
              "              title=\"Convert this dataframe to an interactive table.\"\n",
              "              style=\"display:none;\">\n",
              "        \n",
              "  <svg xmlns=\"http://www.w3.org/2000/svg\" height=\"24px\"viewBox=\"0 0 24 24\"\n",
              "       width=\"24px\">\n",
              "    <path d=\"M0 0h24v24H0V0z\" fill=\"none\"/>\n",
              "    <path d=\"M18.56 5.44l.94 2.06.94-2.06 2.06-.94-2.06-.94-.94-2.06-.94 2.06-2.06.94zm-11 1L8.5 8.5l.94-2.06 2.06-.94-2.06-.94L8.5 2.5l-.94 2.06-2.06.94zm10 10l.94 2.06.94-2.06 2.06-.94-2.06-.94-.94-2.06-.94 2.06-2.06.94z\"/><path d=\"M17.41 7.96l-1.37-1.37c-.4-.4-.92-.59-1.43-.59-.52 0-1.04.2-1.43.59L10.3 9.45l-7.72 7.72c-.78.78-.78 2.05 0 2.83L4 21.41c.39.39.9.59 1.41.59.51 0 1.02-.2 1.41-.59l7.78-7.78 2.81-2.81c.8-.78.8-2.07 0-2.86zM5.41 20L4 18.59l7.72-7.72 1.47 1.35L5.41 20z\"/>\n",
              "  </svg>\n",
              "      </button>\n",
              "      \n",
              "  <style>\n",
              "    .colab-df-container {\n",
              "      display:flex;\n",
              "      flex-wrap:wrap;\n",
              "      gap: 12px;\n",
              "    }\n",
              "\n",
              "    .colab-df-convert {\n",
              "      background-color: #E8F0FE;\n",
              "      border: none;\n",
              "      border-radius: 50%;\n",
              "      cursor: pointer;\n",
              "      display: none;\n",
              "      fill: #1967D2;\n",
              "      height: 32px;\n",
              "      padding: 0 0 0 0;\n",
              "      width: 32px;\n",
              "    }\n",
              "\n",
              "    .colab-df-convert:hover {\n",
              "      background-color: #E2EBFA;\n",
              "      box-shadow: 0px 1px 2px rgba(60, 64, 67, 0.3), 0px 1px 3px 1px rgba(60, 64, 67, 0.15);\n",
              "      fill: #174EA6;\n",
              "    }\n",
              "\n",
              "    [theme=dark] .colab-df-convert {\n",
              "      background-color: #3B4455;\n",
              "      fill: #D2E3FC;\n",
              "    }\n",
              "\n",
              "    [theme=dark] .colab-df-convert:hover {\n",
              "      background-color: #434B5C;\n",
              "      box-shadow: 0px 1px 3px 1px rgba(0, 0, 0, 0.15);\n",
              "      filter: drop-shadow(0px 1px 2px rgba(0, 0, 0, 0.3));\n",
              "      fill: #FFFFFF;\n",
              "    }\n",
              "  </style>\n",
              "\n",
              "      <script>\n",
              "        const buttonEl =\n",
              "          document.querySelector('#df-451a22ee-72e7-4e51-abde-79dfef151d9e button.colab-df-convert');\n",
              "        buttonEl.style.display =\n",
              "          google.colab.kernel.accessAllowed ? 'block' : 'none';\n",
              "\n",
              "        async function convertToInteractive(key) {\n",
              "          const element = document.querySelector('#df-451a22ee-72e7-4e51-abde-79dfef151d9e');\n",
              "          const dataTable =\n",
              "            await google.colab.kernel.invokeFunction('convertToInteractive',\n",
              "                                                     [key], {});\n",
              "          if (!dataTable) return;\n",
              "\n",
              "          const docLinkHtml = 'Like what you see? Visit the ' +\n",
              "            '<a target=\"_blank\" href=https://colab.research.google.com/notebooks/data_table.ipynb>data table notebook</a>'\n",
              "            + ' to learn more about interactive tables.';\n",
              "          element.innerHTML = '';\n",
              "          dataTable['output_type'] = 'display_data';\n",
              "          await google.colab.output.renderOutput(dataTable, element);\n",
              "          const docLink = document.createElement('div');\n",
              "          docLink.innerHTML = docLinkHtml;\n",
              "          element.appendChild(docLink);\n",
              "        }\n",
              "      </script>\n",
              "    </div>\n",
              "  </div>\n",
              "  "
            ]
          },
          "metadata": {},
          "execution_count": 8
        }
      ]
    },
    {
      "cell_type": "markdown",
      "source": [
        " \n",
        "\n",
        "*   Final Fantasy를 보면 WS의 플랫폼으로 되어 있는데, 이는 WonderSwan 플랫폼을 줄인 것이다.\n",
        "*   NG는 Neo Geo의 줄임으로 오류가 아니다.\n",
        "*   SCD는 Sega CD의 줄임으로 오류가 아니다.\n",
        "*   GG는 Game Gear의 줄임으로 오류가 아니다.\n",
        "*   TG16는 TurboGrafx-16의 줄임으로 오류가 아니다.\n",
        "*   3DO는 1993년 출시되었던 거치형 게임기이다.\n",
        "*   PCFX는 1994년 출시되었던 거치형 게임기이다.\n",
        "\n",
        "  따라서 위 명시된 모든 플랫폼은 오류가 아니다.\n",
        "\n",
        "\n",
        "\n"
      ],
      "metadata": {
        "id": "_fTWsPiQm5PF"
      }
    },
    {
      "cell_type": "code",
      "source": [
        "df.groupby(\"Platform\").filter(lambda x: len(x) < 20).query(\"Platform not in ['WS','NG', '3DO', 'SCD', 'TG16', 'GG', 'PCFX']\")"
      ],
      "metadata": {
        "colab": {
          "base_uri": "https://localhost:8080/",
          "height": 112
        },
        "id": "iIBbWJJgnD51",
        "outputId": "df8bea0e-534f-4f1c-826a-f6144d670377"
      },
      "execution_count": 9,
      "outputs": [
        {
          "output_type": "execute_result",
          "data": {
            "text/plain": [
              "                                                    Name Platform       Year  \\\n",
              "7597                                B's-LOG Party??,PSP\"     2010  Adventure   \n",
              "16192  Boku no Natsuyasumi 3: Hokkoku Hen: Chiisana B...     2007  Adventure   \n",
              "\n",
              "                             Genre Publisher NA_Sales EU_Sales JP_Sales  \\\n",
              "7597                  Idea Factory         0        0     0.04        0   \n",
              "16192  Sony Computer Entertainment         0        0     0.08        0   \n",
              "\n",
              "      Other_Sales  \n",
              "7597          NaN  \n",
              "16192         NaN  "
            ],
            "text/html": [
              "\n",
              "  <div id=\"df-f0903851-e4f0-4849-9043-2ec8b473d65d\">\n",
              "    <div class=\"colab-df-container\">\n",
              "      <div>\n",
              "<style scoped>\n",
              "    .dataframe tbody tr th:only-of-type {\n",
              "        vertical-align: middle;\n",
              "    }\n",
              "\n",
              "    .dataframe tbody tr th {\n",
              "        vertical-align: top;\n",
              "    }\n",
              "\n",
              "    .dataframe thead th {\n",
              "        text-align: right;\n",
              "    }\n",
              "</style>\n",
              "<table border=\"1\" class=\"dataframe\">\n",
              "  <thead>\n",
              "    <tr style=\"text-align: right;\">\n",
              "      <th></th>\n",
              "      <th>Name</th>\n",
              "      <th>Platform</th>\n",
              "      <th>Year</th>\n",
              "      <th>Genre</th>\n",
              "      <th>Publisher</th>\n",
              "      <th>NA_Sales</th>\n",
              "      <th>EU_Sales</th>\n",
              "      <th>JP_Sales</th>\n",
              "      <th>Other_Sales</th>\n",
              "    </tr>\n",
              "  </thead>\n",
              "  <tbody>\n",
              "    <tr>\n",
              "      <th>7597</th>\n",
              "      <td>B's-LOG Party??,PSP\"</td>\n",
              "      <td>2010</td>\n",
              "      <td>Adventure</td>\n",
              "      <td>Idea Factory</td>\n",
              "      <td>0</td>\n",
              "      <td>0</td>\n",
              "      <td>0.04</td>\n",
              "      <td>0</td>\n",
              "      <td>NaN</td>\n",
              "    </tr>\n",
              "    <tr>\n",
              "      <th>16192</th>\n",
              "      <td>Boku no Natsuyasumi 3: Hokkoku Hen: Chiisana B...</td>\n",
              "      <td>2007</td>\n",
              "      <td>Adventure</td>\n",
              "      <td>Sony Computer Entertainment</td>\n",
              "      <td>0</td>\n",
              "      <td>0</td>\n",
              "      <td>0.08</td>\n",
              "      <td>0</td>\n",
              "      <td>NaN</td>\n",
              "    </tr>\n",
              "  </tbody>\n",
              "</table>\n",
              "</div>\n",
              "      <button class=\"colab-df-convert\" onclick=\"convertToInteractive('df-f0903851-e4f0-4849-9043-2ec8b473d65d')\"\n",
              "              title=\"Convert this dataframe to an interactive table.\"\n",
              "              style=\"display:none;\">\n",
              "        \n",
              "  <svg xmlns=\"http://www.w3.org/2000/svg\" height=\"24px\"viewBox=\"0 0 24 24\"\n",
              "       width=\"24px\">\n",
              "    <path d=\"M0 0h24v24H0V0z\" fill=\"none\"/>\n",
              "    <path d=\"M18.56 5.44l.94 2.06.94-2.06 2.06-.94-2.06-.94-.94-2.06-.94 2.06-2.06.94zm-11 1L8.5 8.5l.94-2.06 2.06-.94-2.06-.94L8.5 2.5l-.94 2.06-2.06.94zm10 10l.94 2.06.94-2.06 2.06-.94-2.06-.94-.94-2.06-.94 2.06-2.06.94z\"/><path d=\"M17.41 7.96l-1.37-1.37c-.4-.4-.92-.59-1.43-.59-.52 0-1.04.2-1.43.59L10.3 9.45l-7.72 7.72c-.78.78-.78 2.05 0 2.83L4 21.41c.39.39.9.59 1.41.59.51 0 1.02-.2 1.41-.59l7.78-7.78 2.81-2.81c.8-.78.8-2.07 0-2.86zM5.41 20L4 18.59l7.72-7.72 1.47 1.35L5.41 20z\"/>\n",
              "  </svg>\n",
              "      </button>\n",
              "      \n",
              "  <style>\n",
              "    .colab-df-container {\n",
              "      display:flex;\n",
              "      flex-wrap:wrap;\n",
              "      gap: 12px;\n",
              "    }\n",
              "\n",
              "    .colab-df-convert {\n",
              "      background-color: #E8F0FE;\n",
              "      border: none;\n",
              "      border-radius: 50%;\n",
              "      cursor: pointer;\n",
              "      display: none;\n",
              "      fill: #1967D2;\n",
              "      height: 32px;\n",
              "      padding: 0 0 0 0;\n",
              "      width: 32px;\n",
              "    }\n",
              "\n",
              "    .colab-df-convert:hover {\n",
              "      background-color: #E2EBFA;\n",
              "      box-shadow: 0px 1px 2px rgba(60, 64, 67, 0.3), 0px 1px 3px 1px rgba(60, 64, 67, 0.15);\n",
              "      fill: #174EA6;\n",
              "    }\n",
              "\n",
              "    [theme=dark] .colab-df-convert {\n",
              "      background-color: #3B4455;\n",
              "      fill: #D2E3FC;\n",
              "    }\n",
              "\n",
              "    [theme=dark] .colab-df-convert:hover {\n",
              "      background-color: #434B5C;\n",
              "      box-shadow: 0px 1px 3px 1px rgba(0, 0, 0, 0.15);\n",
              "      filter: drop-shadow(0px 1px 2px rgba(0, 0, 0, 0.3));\n",
              "      fill: #FFFFFF;\n",
              "    }\n",
              "  </style>\n",
              "\n",
              "      <script>\n",
              "        const buttonEl =\n",
              "          document.querySelector('#df-f0903851-e4f0-4849-9043-2ec8b473d65d button.colab-df-convert');\n",
              "        buttonEl.style.display =\n",
              "          google.colab.kernel.accessAllowed ? 'block' : 'none';\n",
              "\n",
              "        async function convertToInteractive(key) {\n",
              "          const element = document.querySelector('#df-f0903851-e4f0-4849-9043-2ec8b473d65d');\n",
              "          const dataTable =\n",
              "            await google.colab.kernel.invokeFunction('convertToInteractive',\n",
              "                                                     [key], {});\n",
              "          if (!dataTable) return;\n",
              "\n",
              "          const docLinkHtml = 'Like what you see? Visit the ' +\n",
              "            '<a target=\"_blank\" href=https://colab.research.google.com/notebooks/data_table.ipynb>data table notebook</a>'\n",
              "            + ' to learn more about interactive tables.';\n",
              "          element.innerHTML = '';\n",
              "          dataTable['output_type'] = 'display_data';\n",
              "          await google.colab.output.renderOutput(dataTable, element);\n",
              "          const docLink = document.createElement('div');\n",
              "          docLink.innerHTML = docLinkHtml;\n",
              "          element.appendChild(docLink);\n",
              "        }\n",
              "      </script>\n",
              "    </div>\n",
              "  </div>\n",
              "  "
            ]
          },
          "metadata": {},
          "execution_count": 9
        }
      ]
    },
    {
      "cell_type": "code",
      "source": [
        "print(df.Name[7597],\"\\n\",df.Name[16192])"
      ],
      "metadata": {
        "colab": {
          "base_uri": "https://localhost:8080/",
          "height": 0
        },
        "id": "fr5uNmRtwE6c",
        "outputId": "134fa424-23e8-42b3-89fa-5680daf2081b"
      },
      "execution_count": 10,
      "outputs": [
        {
          "output_type": "stream",
          "name": "stdout",
          "text": [
            "B's-LOG Party??,PSP\" \n",
            " Boku no Natsuyasumi 3: Hokkoku Hen: Chiisana Boku no Dai Sougen??,PS3\"\n"
          ]
        }
      ]
    },
    {
      "cell_type": "markdown",
      "source": [
        "남은 두 데이터는 모두 \"??,\"으로 Platform과 Name이 합쳐져 한칸씩 밀린 것을 알 수 있다.\n",
        "\n",
        "따라서 수정해 줄 필요가 있다."
      ],
      "metadata": {
        "id": "Yd_ZP0gHwTkz"
      }
    },
    {
      "cell_type": "code",
      "source": [
        "df.iloc[[7596, 16191]] = df.T[[7597, 16192]].shift(1, axis=0).T"
      ],
      "metadata": {
        "id": "ErJOs_XywkA7"
      },
      "execution_count": 11,
      "outputs": []
    },
    {
      "cell_type": "code",
      "source": [
        "[df.Name[7597], df.Platform[7597]] = df.Platform[7597].split('??,')\n",
        "[df.Name[16192], df.Platform[16192]] = df.Platform[16192].split('??,')\n",
        "df.Platform[7597] = df.Platform[7597].rstrip('\"')\n",
        "df.Platform[16192] = df.Platform[16192].rstrip('\"')"
      ],
      "metadata": {
        "id": "KfsSaK05Wvo-"
      },
      "execution_count": 12,
      "outputs": []
    },
    {
      "cell_type": "code",
      "source": [
        "df.iloc[[7596, 16191]]"
      ],
      "metadata": {
        "colab": {
          "base_uri": "https://localhost:8080/",
          "height": 112
        },
        "id": "wEFBWYPnbHij",
        "outputId": "b2e97c0e-8704-4eb5-e0b6-77c4fdbc5fc7"
      },
      "execution_count": 13,
      "outputs": [
        {
          "output_type": "execute_result",
          "data": {
            "text/plain": [
              "                                                    Name Platform  Year  \\\n",
              "7597                                       B's-LOG Party      PSP  2010   \n",
              "16192  Boku no Natsuyasumi 3: Hokkoku Hen: Chiisana B...      PS3  2007   \n",
              "\n",
              "           Genre                    Publisher NA_Sales EU_Sales JP_Sales  \\\n",
              "7597   Adventure                 Idea Factory        0        0     0.04   \n",
              "16192  Adventure  Sony Computer Entertainment        0        0     0.08   \n",
              "\n",
              "      Other_Sales  \n",
              "7597            0  \n",
              "16192           0  "
            ],
            "text/html": [
              "\n",
              "  <div id=\"df-7861439a-34a1-4989-968d-4dae785cc335\">\n",
              "    <div class=\"colab-df-container\">\n",
              "      <div>\n",
              "<style scoped>\n",
              "    .dataframe tbody tr th:only-of-type {\n",
              "        vertical-align: middle;\n",
              "    }\n",
              "\n",
              "    .dataframe tbody tr th {\n",
              "        vertical-align: top;\n",
              "    }\n",
              "\n",
              "    .dataframe thead th {\n",
              "        text-align: right;\n",
              "    }\n",
              "</style>\n",
              "<table border=\"1\" class=\"dataframe\">\n",
              "  <thead>\n",
              "    <tr style=\"text-align: right;\">\n",
              "      <th></th>\n",
              "      <th>Name</th>\n",
              "      <th>Platform</th>\n",
              "      <th>Year</th>\n",
              "      <th>Genre</th>\n",
              "      <th>Publisher</th>\n",
              "      <th>NA_Sales</th>\n",
              "      <th>EU_Sales</th>\n",
              "      <th>JP_Sales</th>\n",
              "      <th>Other_Sales</th>\n",
              "    </tr>\n",
              "  </thead>\n",
              "  <tbody>\n",
              "    <tr>\n",
              "      <th>7597</th>\n",
              "      <td>B's-LOG Party</td>\n",
              "      <td>PSP</td>\n",
              "      <td>2010</td>\n",
              "      <td>Adventure</td>\n",
              "      <td>Idea Factory</td>\n",
              "      <td>0</td>\n",
              "      <td>0</td>\n",
              "      <td>0.04</td>\n",
              "      <td>0</td>\n",
              "    </tr>\n",
              "    <tr>\n",
              "      <th>16192</th>\n",
              "      <td>Boku no Natsuyasumi 3: Hokkoku Hen: Chiisana B...</td>\n",
              "      <td>PS3</td>\n",
              "      <td>2007</td>\n",
              "      <td>Adventure</td>\n",
              "      <td>Sony Computer Entertainment</td>\n",
              "      <td>0</td>\n",
              "      <td>0</td>\n",
              "      <td>0.08</td>\n",
              "      <td>0</td>\n",
              "    </tr>\n",
              "  </tbody>\n",
              "</table>\n",
              "</div>\n",
              "      <button class=\"colab-df-convert\" onclick=\"convertToInteractive('df-7861439a-34a1-4989-968d-4dae785cc335')\"\n",
              "              title=\"Convert this dataframe to an interactive table.\"\n",
              "              style=\"display:none;\">\n",
              "        \n",
              "  <svg xmlns=\"http://www.w3.org/2000/svg\" height=\"24px\"viewBox=\"0 0 24 24\"\n",
              "       width=\"24px\">\n",
              "    <path d=\"M0 0h24v24H0V0z\" fill=\"none\"/>\n",
              "    <path d=\"M18.56 5.44l.94 2.06.94-2.06 2.06-.94-2.06-.94-.94-2.06-.94 2.06-2.06.94zm-11 1L8.5 8.5l.94-2.06 2.06-.94-2.06-.94L8.5 2.5l-.94 2.06-2.06.94zm10 10l.94 2.06.94-2.06 2.06-.94-2.06-.94-.94-2.06-.94 2.06-2.06.94z\"/><path d=\"M17.41 7.96l-1.37-1.37c-.4-.4-.92-.59-1.43-.59-.52 0-1.04.2-1.43.59L10.3 9.45l-7.72 7.72c-.78.78-.78 2.05 0 2.83L4 21.41c.39.39.9.59 1.41.59.51 0 1.02-.2 1.41-.59l7.78-7.78 2.81-2.81c.8-.78.8-2.07 0-2.86zM5.41 20L4 18.59l7.72-7.72 1.47 1.35L5.41 20z\"/>\n",
              "  </svg>\n",
              "      </button>\n",
              "      \n",
              "  <style>\n",
              "    .colab-df-container {\n",
              "      display:flex;\n",
              "      flex-wrap:wrap;\n",
              "      gap: 12px;\n",
              "    }\n",
              "\n",
              "    .colab-df-convert {\n",
              "      background-color: #E8F0FE;\n",
              "      border: none;\n",
              "      border-radius: 50%;\n",
              "      cursor: pointer;\n",
              "      display: none;\n",
              "      fill: #1967D2;\n",
              "      height: 32px;\n",
              "      padding: 0 0 0 0;\n",
              "      width: 32px;\n",
              "    }\n",
              "\n",
              "    .colab-df-convert:hover {\n",
              "      background-color: #E2EBFA;\n",
              "      box-shadow: 0px 1px 2px rgba(60, 64, 67, 0.3), 0px 1px 3px 1px rgba(60, 64, 67, 0.15);\n",
              "      fill: #174EA6;\n",
              "    }\n",
              "\n",
              "    [theme=dark] .colab-df-convert {\n",
              "      background-color: #3B4455;\n",
              "      fill: #D2E3FC;\n",
              "    }\n",
              "\n",
              "    [theme=dark] .colab-df-convert:hover {\n",
              "      background-color: #434B5C;\n",
              "      box-shadow: 0px 1px 3px 1px rgba(0, 0, 0, 0.15);\n",
              "      filter: drop-shadow(0px 1px 2px rgba(0, 0, 0, 0.3));\n",
              "      fill: #FFFFFF;\n",
              "    }\n",
              "  </style>\n",
              "\n",
              "      <script>\n",
              "        const buttonEl =\n",
              "          document.querySelector('#df-7861439a-34a1-4989-968d-4dae785cc335 button.colab-df-convert');\n",
              "        buttonEl.style.display =\n",
              "          google.colab.kernel.accessAllowed ? 'block' : 'none';\n",
              "\n",
              "        async function convertToInteractive(key) {\n",
              "          const element = document.querySelector('#df-7861439a-34a1-4989-968d-4dae785cc335');\n",
              "          const dataTable =\n",
              "            await google.colab.kernel.invokeFunction('convertToInteractive',\n",
              "                                                     [key], {});\n",
              "          if (!dataTable) return;\n",
              "\n",
              "          const docLinkHtml = 'Like what you see? Visit the ' +\n",
              "            '<a target=\"_blank\" href=https://colab.research.google.com/notebooks/data_table.ipynb>data table notebook</a>'\n",
              "            + ' to learn more about interactive tables.';\n",
              "          element.innerHTML = '';\n",
              "          dataTable['output_type'] = 'display_data';\n",
              "          await google.colab.output.renderOutput(dataTable, element);\n",
              "          const docLink = document.createElement('div');\n",
              "          docLink.innerHTML = docLinkHtml;\n",
              "          element.appendChild(docLink);\n",
              "        }\n",
              "      </script>\n",
              "    </div>\n",
              "  </div>\n",
              "  "
            ]
          },
          "metadata": {},
          "execution_count": 13
        }
      ]
    },
    {
      "cell_type": "markdown",
      "source": [
        "## Year"
      ],
      "metadata": {
        "id": "6QTtducTZ08J"
      }
    },
    {
      "cell_type": "markdown",
      "source": [
        "### 정수 형태로 변환"
      ],
      "metadata": {
        "id": "-zwi5SObaaIJ"
      }
    },
    {
      "cell_type": "markdown",
      "source": [
        "Year column의 type를 정수 형태로 바꿀 필요가 있다."
      ],
      "metadata": {
        "id": "__oyiDsDzlee"
      }
    },
    {
      "cell_type": "markdown",
      "source": [
        "1. Year 열에 271개의 null 값이 있으므로, 정보를 검색해 찾아준다.\n",
        "\n",
        "(추가) 사실 원래 주어진 데이터 Year에 정확하지 않은 정보가 많음을 알아내었다.<br>\n",
        "따라서 값을 지우고 다시 채우는 것이 좋을 것 같다.<br>\n",
        "하지만 데이터가 너무 많아 실행 시간이 너무 오래 걸리므로, 생략한다.\n",
        "네자리 수거나 9로 시작하는 두자리 값은 앞에 19를 채워준다.\n",
        "나머지와 null은 0으로 바꾼다.\n"
      ],
      "metadata": {
        "id": "QwWtrHy_1dQU"
      }
    },
    {
      "cell_type": "code",
      "source": [
        "df.Year = df.Year.astype(float).astype(\"Int32\")"
      ],
      "metadata": {
        "id": "NcBR8keFiACt"
      },
      "execution_count": 14,
      "outputs": []
    },
    {
      "cell_type": "code",
      "source": [
        "def year_check(year):\n",
        "  if pd.isna(year):\n",
        "    return 0\n",
        "  if year < 2030 and 1900 < year:\n",
        "    return year\n",
        "  elif year<100 and 90<year:\n",
        "    return 1900+year\n",
        "  else:\n",
        "    return 2000+year"
      ],
      "metadata": {
        "id": "U-B7WkrpkDkE"
      },
      "execution_count": 15,
      "outputs": []
    },
    {
      "cell_type": "code",
      "source": [
        "df['Year'] = df['Year'].apply(lambda x:year_check(x))"
      ],
      "metadata": {
        "id": "3RhAdp-eix3d"
      },
      "execution_count": 16,
      "outputs": []
    },
    {
      "cell_type": "markdown",
      "source": [
        "### 결측치 채우기"
      ],
      "metadata": {
        "id": "6yWwm-ZtaG-H"
      }
    },
    {
      "cell_type": "markdown",
      "source": [
        "\\* null값이 많으므로 게임 이름을 입력하면 위키피디아, 메타크리틱, 구글에서 게임연도를 찾아 반환하는 함수를 만들었다."
      ],
      "metadata": {
        "id": "I7PKdQHfRhZv"
      }
    },
    {
      "cell_type": "markdown",
      "source": [
        "#### Metacritic에서 가져오기"
      ],
      "metadata": {
        "id": "JQnU4eY7bFqo"
      }
    },
    {
      "cell_type": "code",
      "source": [
        "urlplatform = {'2600':'2600', '3DS':'3ds', 'DS':'ds', 'GBA':'game-boy-advance', 'GC':'gamecube', 'N64':'nintendo-64', 'PC':'pc', \n",
        "               'PS':'playstation', 'PS2':'playstation-2', 'PS3':'playstation-3', 'PSP':'psp', 'Wii':'wii', 'X360':'xbox-360', 'XB':'xbox'}\n",
        "\n",
        "\n",
        "def find_game_years_meta(game_name, platform):\n",
        "  try:\n",
        "    game_name = game_name.lower().replace(' ','-').replace(':','-').replace('--','-').replace('--','-').replace(\"'\",'')\n",
        "    platform = urlplatform[platform]\n",
        "    url = \"https://www.metacritic.com/game/\"+platform+\"/\"+game_name\n",
        "    req = Request(url,headers={'User-Agent':'Mozila/5.0'})\n",
        "    webpage = urlopen(req)\n",
        "    soup = BeautifulSoup(webpage)\n",
        "    yeardata = soup.find('div', { 'class' : \"product_data\"})\n",
        "    temp = re.split(r\"(Jan|Feb|Mar|Apr|May|Jun|Jul|Apr|Sep|Oct|Nov|Dec)\\s{1}\",str(yeardata))[-1]\n",
        "    r1 = re.findall(r\"\\d{4}\",temp)\n",
        "    return int(min(r1))\n",
        "  except:\n",
        "    return np.NAN"
      ],
      "metadata": {
        "id": "aZyhH2WJntgY"
      },
      "execution_count": 17,
      "outputs": []
    },
    {
      "cell_type": "code",
      "source": [
        "df.Year = df.apply(lambda row: row.Year if (row.Year < 2030 and row.Year > 1900) else find_game_years_meta(row.Name, row.Platform), axis=1)"
      ],
      "metadata": {
        "id": "ef2lQtB2dRgU"
      },
      "execution_count": 18,
      "outputs": []
    },
    {
      "cell_type": "markdown",
      "source": [
        "#### Wikipedia에서 가져오기"
      ],
      "metadata": {
        "id": "NCj2GVwVbM3I"
      }
    },
    {
      "cell_type": "code",
      "source": [
        "def find_game_years(game_name):\n",
        "  try:\n",
        "    url = \"https://en.wikipedia.org/wiki/\"+game_name\n",
        "    url = url.replace(' ','_')\n",
        "    req = Request(url,headers={'User-Agent':'Mozila/5.0'})\n",
        "    \n",
        "    webpage = urlopen(req)\n",
        "    \n",
        "    soup = BeautifulSoup(webpage)\n",
        "\n",
        "    htmltable = soup.find('table', { 'class' : \"infobox ib-video-game hproduct\"})\n",
        "    from itertools import product\n",
        "    def table_to_2d(table_tag):\n",
        "        rowspans = []\n",
        "        rows = table_tag.find_all('tr')\n",
        "\n",
        "        colcount = 0\n",
        "        for r, row in enumerate(rows):\n",
        "            cells = row.find_all(['td', 'th'], recursive=False)\n",
        "            colcount = max(\n",
        "                colcount,\n",
        "                sum(int(c.get('colspan', 1)) or 1 for c in cells[:-1]) + len(cells[-1:]) + len(rowspans))\n",
        "            rowspans += [int(c.get('rowspan', 1)) or len(rows) - r for c in cells]\n",
        "            rowspans = [s - 1 for s in rowspans if s > 1]\n",
        "\n",
        "        table = [[None] * colcount for row in rows]\n",
        "\n",
        "        rowspans = {}\n",
        "        for row, row_elem in enumerate(rows):\n",
        "            span_offset = 0\n",
        "            for col, cell in enumerate(row_elem.find_all(['td', 'th'], recursive=False)):\n",
        "                col += span_offset\n",
        "                while rowspans.get(col, 0):\n",
        "                    span_offset += 1\n",
        "                    col += 1\n",
        "                    \n",
        "                rowspan = rowspans[col] = int(cell.get('rowspan', 1)) or len(rows) - row\n",
        "                colspan = int(cell.get('colspan', 1)) or colcount - col\n",
        "                span_offset += colspan - 1\n",
        "                value = cell.get_text()\n",
        "                for drow, dcol in product(range(rowspan), range(colspan)):\n",
        "                    try:\n",
        "                        table[row + drow][col + dcol] = value\n",
        "                        rowspans[col + dcol] = rowspan\n",
        "                    except IndexError:\n",
        "                        pass\n",
        "                        \n",
        "            rowspans = {c: s - 1 for c, s in rowspans.items() if s > 1}\n",
        "\n",
        "        return table\n",
        "\n",
        "    temp_table = pd.DataFrame(table_to_2d(htmltable)).set_index(0)\n",
        "    temp = temp_table.loc['Release'][1]\n",
        "    \n",
        "    r1 = re.findall(r\"\\d{4}\",temp)\n",
        "    return int(min(r1))\n",
        "  except:\n",
        "    return np.NAN"
      ],
      "metadata": {
        "id": "bzR_ieF6Qh-g"
      },
      "execution_count": 19,
      "outputs": []
    },
    {
      "cell_type": "code",
      "source": [
        "df.Year = df.apply(lambda row: row.Year if (row.Year < 2030 and row.Year > 1900) else find_game_years(row.Name), axis=1)"
      ],
      "metadata": {
        "id": "XGZ29nNRnaBT"
      },
      "execution_count": 20,
      "outputs": []
    },
    {
      "cell_type": "markdown",
      "source": [
        "#### 구글 헤드에서 가져오기"
      ],
      "metadata": {
        "id": "bEr2tXNIbUTB"
      }
    },
    {
      "cell_type": "code",
      "source": [
        "def find_game_years_google(game_name, platform):\n",
        "  try:\n",
        "    game_name = re.sub(r\"[^\\uAC00-\\uD7A30-9a-zA-Z\\s]\", \"\", game_name)\n",
        "    game_name = game_name.replace(\"\\t\", \"\")\n",
        "    url = \"https://www.google.com/search?q=\"+game_name+\" \"+platform+\" game year&aqs=chrome..69i57.4560j0j9&sourceid=chrome&ie=UTF-8\"\n",
        "    url = url.replace(' ','%20')\n",
        "    req = Request(url, headers = {'User-Agent':'Chrome/66.0.3359.181'})\n",
        "    webpage = urlopen(req)\n",
        "    soup = BeautifulSoup(webpage)\n",
        "    temp = re.split(r\"(January|February|March|April|May|June|July|August|September|October|November|December)\\s{1}\",str(soup))[4]\n",
        "    temp = re.split(\"</span></span>\",temp)[0]\n",
        "    r1 = re.findall(r\"\\d{4}\",temp)\n",
        "    return int(min(r1))\n",
        "  except:\n",
        "    return np.NAN"
      ],
      "metadata": {
        "id": "4ecGALQZxMZY"
      },
      "execution_count": 21,
      "outputs": []
    },
    {
      "cell_type": "code",
      "source": [
        "df.Year = df.apply(lambda row: row.Year if (row.Year <= 2020 and row.Year > 1900) else find_game_years_google(row.Name, row.Platform), axis=1)"
      ],
      "metadata": {
        "id": "aFcIZXldizqO"
      },
      "execution_count": 22,
      "outputs": []
    },
    {
      "cell_type": "code",
      "source": [
        "def find_game_years_google2(game_name, platform):\n",
        "  try:\n",
        "    game_name = re.sub(r\"[^\\uAC00-\\uD7A30-9a-zA-Z\\s]\", \"\", game_name)\n",
        "    game_name = game_name.replace(\"\\t\", \"\")\n",
        "\n",
        "    url = \"https://www.google.com/search?q=\"+game_name+\" \"+platform+\" game release date\"\n",
        "    url = url.replace(' ','%20')\n",
        "    req = Request(url, headers = {'User-Agent':'Chrome/66.0.3359.181'})\n",
        "    webpage = urlopen(req)\n",
        "    soup = BeautifulSoup(webpage)\n",
        "    r1 = re.findall(r\"\\d{4}\",str(soup))\n",
        "    r1 = [i for i in r1 if int(i)<2020 and int(i)>1900]\n",
        "    return int(max(r1, key=r1.count))\n",
        "  except:\n",
        "    return np.NAN"
      ],
      "metadata": {
        "id": "fcfM6qRl0F8a"
      },
      "execution_count": 23,
      "outputs": []
    },
    {
      "cell_type": "code",
      "source": [
        "df.Year = df.apply(lambda row:row.Year if (row.Year <= 2018 and row.Year > 1900) else find_game_years_google2(row.Name, row.Platform), axis=1).astype(\"Int32\")"
      ],
      "metadata": {
        "id": "igvade8q3Uz-"
      },
      "execution_count": 24,
      "outputs": []
    },
    {
      "cell_type": "markdown",
      "source": [
        "## Genre"
      ],
      "metadata": {
        "id": "vm39RqzTbbxI"
      }
    },
    {
      "cell_type": "markdown",
      "source": [
        "### Metacritic에서 가져오기"
      ],
      "metadata": {
        "id": "IZtrYaoTbhrA"
      }
    },
    {
      "cell_type": "markdown",
      "source": [
        "Genre 값에 50개의 null값이 있다. 메타크리틱에서 크롤링해오자."
      ],
      "metadata": {
        "id": "uNjLDD_3ySQZ"
      }
    },
    {
      "cell_type": "code",
      "source": [
        "def find_game_genres_meta(game_name, platform):\n",
        "  try:\n",
        "    game_name = game_name.lower().replace(' ','-').replace(':','-').replace('--','-').replace('--','-').replace(\"'\",'')\n",
        "    platform = urlplatform[platform]\n",
        "    url = \"https://www.metacritic.com/game/\"+platform+\"/\"+game_name\n",
        "    req = Request(url,headers={'User-Agent':'Mozila/5.0'})\n",
        "    webpage = urlopen(req)\n",
        "    soup = BeautifulSoup(webpage)\n",
        "    genredata = soup.find('li', { 'class' : \"summary_detail product_genre\"})\n",
        "    return str(genredata).split('<span class=\"data\">')[1].split('</span>')[0]\n",
        "  except:\n",
        "    return np.NAN"
      ],
      "metadata": {
        "id": "dCLZVXvmyekd"
      },
      "execution_count": 25,
      "outputs": []
    },
    {
      "cell_type": "code",
      "source": [
        "df.Genre = df.apply(lambda row: find_game_genres_meta(row.Name, row.Platform) if pd.isna(row.Genre) else row.Genre, axis=1)"
      ],
      "metadata": {
        "id": "ZBp4NL-m5BwP"
      },
      "execution_count": 26,
      "outputs": []
    },
    {
      "cell_type": "markdown",
      "source": [
        "### 수동으로 채우기"
      ],
      "metadata": {
        "id": "SQsgMsEPbp-j"
      }
    },
    {
      "cell_type": "code",
      "source": [
        "df[df.Genre.isna()] #수동으로 찾아야 하는 목록"
      ],
      "metadata": {
        "id": "Jrv-ZSJ7s_-_",
        "colab": {
          "base_uri": "https://localhost:8080/",
          "height": 865
        },
        "outputId": "321f5bd7-805b-4d31-a378-3e417b7231c9"
      },
      "execution_count": 27,
      "outputs": [
        {
          "output_type": "execute_result",
          "data": {
            "text/plain": [
              "                                           Name Platform  Year Genre  \\\n",
              "1583             SingStar Singalong With Disney      PS2  2008   NaN   \n",
              "1972                        Pokemon X/Pokemon Y      3DS  2013   NaN   \n",
              "2044                              NASCAR Racing       PS  1996   NaN   \n",
              "3354                The Godfather: Dons Edition      PS3  2007   NaN   \n",
              "3516   Princess Saver! Eternal Love for My Lady      PS2  2010   NaN   \n",
              "4149                        Grand Theft Auto IV       PC  2008   NaN   \n",
              "4350                  Brain Quest: Grades 5 & 6       DS  2008   NaN   \n",
              "5714               Back to the Future: The Game     XOne  2015   NaN   \n",
              "5946                          Medabots: Metabee      GBA  2002   NaN   \n",
              "6799                               UFO: Trilogy       PC  2007   NaN   \n",
              "7144               Largo Winch .// Commando Sar       PS  2002   NaN   \n",
              "7527                            Ukiyo no Shishi      PS3  2015   NaN   \n",
              "9489                          Final Fantasy XII      PS2  2006   NaN   \n",
              "10502                   Bakemonogatari Portable      PSP  2012   NaN   \n",
              "11269         Cloudy With a Chance of Meatballs      PS3  2009   NaN   \n",
              "11497                                  F-Zero X      N64  1998   NaN   \n",
              "11700                            Time Travelers      PSV  2012   NaN   \n",
              "12315                                Ice Hockey     2600  1980   NaN   \n",
              "12341                          Virtual Chess 64      N64  1998   NaN   \n",
              "12983                               Urban Chaos       PS  1999   NaN   \n",
              "13349     Treasure Report: Kikai Jikake no Isan       DS  2011   NaN   \n",
              "15212                 James Bond 007: Nightfire       XB  2002   NaN   \n",
              "15427         WarioWare, Inc.: Mega Party Game$       GC  2003   NaN   \n",
              "15527                                Bloodborne      PS4  2015   NaN   \n",
              "16432         Cars: Mater-National Championship     X360  2007   NaN   \n",
              "16556                       Apache: Air Assault       PC  2010   NaN   \n",
              "\n",
              "                         Publisher NA_Sales EU_Sales JP_Sales Other_Sales  \n",
              "1583   Sony Computer Entertainment        0     0.04        0        0.57  \n",
              "1972                      Nintendo    5170K     4.05     4.34        0.79  \n",
              "2044                   Pioneer LDC     0.23     0.16        0        0.03  \n",
              "3354               Electronic Arts     0.25     0.02        0        0.03  \n",
              "3516                       Comfort        0        0     0.02           0  \n",
              "4149          Take-Two Interactive     0.01     0.79        0        0.08  \n",
              "4350               Electronic Arts     0.11        0        0        0.01  \n",
              "5714                Telltale Games        0     0.02        0           0  \n",
              "5946                       Natsume     0.04     0.01        0           0  \n",
              "6799                       Unknown        0     0.02        0           0  \n",
              "7144                       Ubisoft     0.01     0.01        0           0  \n",
              "7527            Namco Bandai Games        0        0     0.03           0  \n",
              "9489                   Square Enix     1.88        0     2.33        1.74  \n",
              "10502           Namco Bandai Games        0        0     0.05           0  \n",
              "11269                      Ubisoft     0.09     0.01        0        0.01  \n",
              "11497                     Nintendo     0.45     0.33     0.29        0.03  \n",
              "11700                      Level 5        0        0     0.05           0  \n",
              "12315                   Activision     0.46     0.03        0        0.01  \n",
              "12341                        Titus     0.05     0.01        0           0  \n",
              "12983            Eidos Interactive     0.06     0.04        0        0.01  \n",
              "13349           Namco Bandai Games        0        0     0.05           0  \n",
              "15212              Electronic Arts     0.58     220K        0        0.03  \n",
              "15427                     Nintendo      0.2     0.05     0.44        0.02  \n",
              "15527  Sony Computer Entertainment        1     0.76     0.26        0.36  \n",
              "16432                          THQ     0.13        0        0        0.01  \n",
              "16556                  Just Flight        0     0.03        0        0.01  "
            ],
            "text/html": [
              "\n",
              "  <div id=\"df-9eb4c820-79ea-43fd-a675-1b11cec7de87\">\n",
              "    <div class=\"colab-df-container\">\n",
              "      <div>\n",
              "<style scoped>\n",
              "    .dataframe tbody tr th:only-of-type {\n",
              "        vertical-align: middle;\n",
              "    }\n",
              "\n",
              "    .dataframe tbody tr th {\n",
              "        vertical-align: top;\n",
              "    }\n",
              "\n",
              "    .dataframe thead th {\n",
              "        text-align: right;\n",
              "    }\n",
              "</style>\n",
              "<table border=\"1\" class=\"dataframe\">\n",
              "  <thead>\n",
              "    <tr style=\"text-align: right;\">\n",
              "      <th></th>\n",
              "      <th>Name</th>\n",
              "      <th>Platform</th>\n",
              "      <th>Year</th>\n",
              "      <th>Genre</th>\n",
              "      <th>Publisher</th>\n",
              "      <th>NA_Sales</th>\n",
              "      <th>EU_Sales</th>\n",
              "      <th>JP_Sales</th>\n",
              "      <th>Other_Sales</th>\n",
              "    </tr>\n",
              "  </thead>\n",
              "  <tbody>\n",
              "    <tr>\n",
              "      <th>1583</th>\n",
              "      <td>SingStar Singalong With Disney</td>\n",
              "      <td>PS2</td>\n",
              "      <td>2008</td>\n",
              "      <td>NaN</td>\n",
              "      <td>Sony Computer Entertainment</td>\n",
              "      <td>0</td>\n",
              "      <td>0.04</td>\n",
              "      <td>0</td>\n",
              "      <td>0.57</td>\n",
              "    </tr>\n",
              "    <tr>\n",
              "      <th>1972</th>\n",
              "      <td>Pokemon X/Pokemon Y</td>\n",
              "      <td>3DS</td>\n",
              "      <td>2013</td>\n",
              "      <td>NaN</td>\n",
              "      <td>Nintendo</td>\n",
              "      <td>5170K</td>\n",
              "      <td>4.05</td>\n",
              "      <td>4.34</td>\n",
              "      <td>0.79</td>\n",
              "    </tr>\n",
              "    <tr>\n",
              "      <th>2044</th>\n",
              "      <td>NASCAR Racing</td>\n",
              "      <td>PS</td>\n",
              "      <td>1996</td>\n",
              "      <td>NaN</td>\n",
              "      <td>Pioneer LDC</td>\n",
              "      <td>0.23</td>\n",
              "      <td>0.16</td>\n",
              "      <td>0</td>\n",
              "      <td>0.03</td>\n",
              "    </tr>\n",
              "    <tr>\n",
              "      <th>3354</th>\n",
              "      <td>The Godfather: Dons Edition</td>\n",
              "      <td>PS3</td>\n",
              "      <td>2007</td>\n",
              "      <td>NaN</td>\n",
              "      <td>Electronic Arts</td>\n",
              "      <td>0.25</td>\n",
              "      <td>0.02</td>\n",
              "      <td>0</td>\n",
              "      <td>0.03</td>\n",
              "    </tr>\n",
              "    <tr>\n",
              "      <th>3516</th>\n",
              "      <td>Princess Saver! Eternal Love for My Lady</td>\n",
              "      <td>PS2</td>\n",
              "      <td>2010</td>\n",
              "      <td>NaN</td>\n",
              "      <td>Comfort</td>\n",
              "      <td>0</td>\n",
              "      <td>0</td>\n",
              "      <td>0.02</td>\n",
              "      <td>0</td>\n",
              "    </tr>\n",
              "    <tr>\n",
              "      <th>4149</th>\n",
              "      <td>Grand Theft Auto IV</td>\n",
              "      <td>PC</td>\n",
              "      <td>2008</td>\n",
              "      <td>NaN</td>\n",
              "      <td>Take-Two Interactive</td>\n",
              "      <td>0.01</td>\n",
              "      <td>0.79</td>\n",
              "      <td>0</td>\n",
              "      <td>0.08</td>\n",
              "    </tr>\n",
              "    <tr>\n",
              "      <th>4350</th>\n",
              "      <td>Brain Quest: Grades 5 &amp; 6</td>\n",
              "      <td>DS</td>\n",
              "      <td>2008</td>\n",
              "      <td>NaN</td>\n",
              "      <td>Electronic Arts</td>\n",
              "      <td>0.11</td>\n",
              "      <td>0</td>\n",
              "      <td>0</td>\n",
              "      <td>0.01</td>\n",
              "    </tr>\n",
              "    <tr>\n",
              "      <th>5714</th>\n",
              "      <td>Back to the Future: The Game</td>\n",
              "      <td>XOne</td>\n",
              "      <td>2015</td>\n",
              "      <td>NaN</td>\n",
              "      <td>Telltale Games</td>\n",
              "      <td>0</td>\n",
              "      <td>0.02</td>\n",
              "      <td>0</td>\n",
              "      <td>0</td>\n",
              "    </tr>\n",
              "    <tr>\n",
              "      <th>5946</th>\n",
              "      <td>Medabots: Metabee</td>\n",
              "      <td>GBA</td>\n",
              "      <td>2002</td>\n",
              "      <td>NaN</td>\n",
              "      <td>Natsume</td>\n",
              "      <td>0.04</td>\n",
              "      <td>0.01</td>\n",
              "      <td>0</td>\n",
              "      <td>0</td>\n",
              "    </tr>\n",
              "    <tr>\n",
              "      <th>6799</th>\n",
              "      <td>UFO: Trilogy</td>\n",
              "      <td>PC</td>\n",
              "      <td>2007</td>\n",
              "      <td>NaN</td>\n",
              "      <td>Unknown</td>\n",
              "      <td>0</td>\n",
              "      <td>0.02</td>\n",
              "      <td>0</td>\n",
              "      <td>0</td>\n",
              "    </tr>\n",
              "    <tr>\n",
              "      <th>7144</th>\n",
              "      <td>Largo Winch .// Commando Sar</td>\n",
              "      <td>PS</td>\n",
              "      <td>2002</td>\n",
              "      <td>NaN</td>\n",
              "      <td>Ubisoft</td>\n",
              "      <td>0.01</td>\n",
              "      <td>0.01</td>\n",
              "      <td>0</td>\n",
              "      <td>0</td>\n",
              "    </tr>\n",
              "    <tr>\n",
              "      <th>7527</th>\n",
              "      <td>Ukiyo no Shishi</td>\n",
              "      <td>PS3</td>\n",
              "      <td>2015</td>\n",
              "      <td>NaN</td>\n",
              "      <td>Namco Bandai Games</td>\n",
              "      <td>0</td>\n",
              "      <td>0</td>\n",
              "      <td>0.03</td>\n",
              "      <td>0</td>\n",
              "    </tr>\n",
              "    <tr>\n",
              "      <th>9489</th>\n",
              "      <td>Final Fantasy XII</td>\n",
              "      <td>PS2</td>\n",
              "      <td>2006</td>\n",
              "      <td>NaN</td>\n",
              "      <td>Square Enix</td>\n",
              "      <td>1.88</td>\n",
              "      <td>0</td>\n",
              "      <td>2.33</td>\n",
              "      <td>1.74</td>\n",
              "    </tr>\n",
              "    <tr>\n",
              "      <th>10502</th>\n",
              "      <td>Bakemonogatari Portable</td>\n",
              "      <td>PSP</td>\n",
              "      <td>2012</td>\n",
              "      <td>NaN</td>\n",
              "      <td>Namco Bandai Games</td>\n",
              "      <td>0</td>\n",
              "      <td>0</td>\n",
              "      <td>0.05</td>\n",
              "      <td>0</td>\n",
              "    </tr>\n",
              "    <tr>\n",
              "      <th>11269</th>\n",
              "      <td>Cloudy With a Chance of Meatballs</td>\n",
              "      <td>PS3</td>\n",
              "      <td>2009</td>\n",
              "      <td>NaN</td>\n",
              "      <td>Ubisoft</td>\n",
              "      <td>0.09</td>\n",
              "      <td>0.01</td>\n",
              "      <td>0</td>\n",
              "      <td>0.01</td>\n",
              "    </tr>\n",
              "    <tr>\n",
              "      <th>11497</th>\n",
              "      <td>F-Zero X</td>\n",
              "      <td>N64</td>\n",
              "      <td>1998</td>\n",
              "      <td>NaN</td>\n",
              "      <td>Nintendo</td>\n",
              "      <td>0.45</td>\n",
              "      <td>0.33</td>\n",
              "      <td>0.29</td>\n",
              "      <td>0.03</td>\n",
              "    </tr>\n",
              "    <tr>\n",
              "      <th>11700</th>\n",
              "      <td>Time Travelers</td>\n",
              "      <td>PSV</td>\n",
              "      <td>2012</td>\n",
              "      <td>NaN</td>\n",
              "      <td>Level 5</td>\n",
              "      <td>0</td>\n",
              "      <td>0</td>\n",
              "      <td>0.05</td>\n",
              "      <td>0</td>\n",
              "    </tr>\n",
              "    <tr>\n",
              "      <th>12315</th>\n",
              "      <td>Ice Hockey</td>\n",
              "      <td>2600</td>\n",
              "      <td>1980</td>\n",
              "      <td>NaN</td>\n",
              "      <td>Activision</td>\n",
              "      <td>0.46</td>\n",
              "      <td>0.03</td>\n",
              "      <td>0</td>\n",
              "      <td>0.01</td>\n",
              "    </tr>\n",
              "    <tr>\n",
              "      <th>12341</th>\n",
              "      <td>Virtual Chess 64</td>\n",
              "      <td>N64</td>\n",
              "      <td>1998</td>\n",
              "      <td>NaN</td>\n",
              "      <td>Titus</td>\n",
              "      <td>0.05</td>\n",
              "      <td>0.01</td>\n",
              "      <td>0</td>\n",
              "      <td>0</td>\n",
              "    </tr>\n",
              "    <tr>\n",
              "      <th>12983</th>\n",
              "      <td>Urban Chaos</td>\n",
              "      <td>PS</td>\n",
              "      <td>1999</td>\n",
              "      <td>NaN</td>\n",
              "      <td>Eidos Interactive</td>\n",
              "      <td>0.06</td>\n",
              "      <td>0.04</td>\n",
              "      <td>0</td>\n",
              "      <td>0.01</td>\n",
              "    </tr>\n",
              "    <tr>\n",
              "      <th>13349</th>\n",
              "      <td>Treasure Report: Kikai Jikake no Isan</td>\n",
              "      <td>DS</td>\n",
              "      <td>2011</td>\n",
              "      <td>NaN</td>\n",
              "      <td>Namco Bandai Games</td>\n",
              "      <td>0</td>\n",
              "      <td>0</td>\n",
              "      <td>0.05</td>\n",
              "      <td>0</td>\n",
              "    </tr>\n",
              "    <tr>\n",
              "      <th>15212</th>\n",
              "      <td>James Bond 007: Nightfire</td>\n",
              "      <td>XB</td>\n",
              "      <td>2002</td>\n",
              "      <td>NaN</td>\n",
              "      <td>Electronic Arts</td>\n",
              "      <td>0.58</td>\n",
              "      <td>220K</td>\n",
              "      <td>0</td>\n",
              "      <td>0.03</td>\n",
              "    </tr>\n",
              "    <tr>\n",
              "      <th>15427</th>\n",
              "      <td>WarioWare, Inc.: Mega Party Game$</td>\n",
              "      <td>GC</td>\n",
              "      <td>2003</td>\n",
              "      <td>NaN</td>\n",
              "      <td>Nintendo</td>\n",
              "      <td>0.2</td>\n",
              "      <td>0.05</td>\n",
              "      <td>0.44</td>\n",
              "      <td>0.02</td>\n",
              "    </tr>\n",
              "    <tr>\n",
              "      <th>15527</th>\n",
              "      <td>Bloodborne</td>\n",
              "      <td>PS4</td>\n",
              "      <td>2015</td>\n",
              "      <td>NaN</td>\n",
              "      <td>Sony Computer Entertainment</td>\n",
              "      <td>1</td>\n",
              "      <td>0.76</td>\n",
              "      <td>0.26</td>\n",
              "      <td>0.36</td>\n",
              "    </tr>\n",
              "    <tr>\n",
              "      <th>16432</th>\n",
              "      <td>Cars: Mater-National Championship</td>\n",
              "      <td>X360</td>\n",
              "      <td>2007</td>\n",
              "      <td>NaN</td>\n",
              "      <td>THQ</td>\n",
              "      <td>0.13</td>\n",
              "      <td>0</td>\n",
              "      <td>0</td>\n",
              "      <td>0.01</td>\n",
              "    </tr>\n",
              "    <tr>\n",
              "      <th>16556</th>\n",
              "      <td>Apache: Air Assault</td>\n",
              "      <td>PC</td>\n",
              "      <td>2010</td>\n",
              "      <td>NaN</td>\n",
              "      <td>Just Flight</td>\n",
              "      <td>0</td>\n",
              "      <td>0.03</td>\n",
              "      <td>0</td>\n",
              "      <td>0.01</td>\n",
              "    </tr>\n",
              "  </tbody>\n",
              "</table>\n",
              "</div>\n",
              "      <button class=\"colab-df-convert\" onclick=\"convertToInteractive('df-9eb4c820-79ea-43fd-a675-1b11cec7de87')\"\n",
              "              title=\"Convert this dataframe to an interactive table.\"\n",
              "              style=\"display:none;\">\n",
              "        \n",
              "  <svg xmlns=\"http://www.w3.org/2000/svg\" height=\"24px\"viewBox=\"0 0 24 24\"\n",
              "       width=\"24px\">\n",
              "    <path d=\"M0 0h24v24H0V0z\" fill=\"none\"/>\n",
              "    <path d=\"M18.56 5.44l.94 2.06.94-2.06 2.06-.94-2.06-.94-.94-2.06-.94 2.06-2.06.94zm-11 1L8.5 8.5l.94-2.06 2.06-.94-2.06-.94L8.5 2.5l-.94 2.06-2.06.94zm10 10l.94 2.06.94-2.06 2.06-.94-2.06-.94-.94-2.06-.94 2.06-2.06.94z\"/><path d=\"M17.41 7.96l-1.37-1.37c-.4-.4-.92-.59-1.43-.59-.52 0-1.04.2-1.43.59L10.3 9.45l-7.72 7.72c-.78.78-.78 2.05 0 2.83L4 21.41c.39.39.9.59 1.41.59.51 0 1.02-.2 1.41-.59l7.78-7.78 2.81-2.81c.8-.78.8-2.07 0-2.86zM5.41 20L4 18.59l7.72-7.72 1.47 1.35L5.41 20z\"/>\n",
              "  </svg>\n",
              "      </button>\n",
              "      \n",
              "  <style>\n",
              "    .colab-df-container {\n",
              "      display:flex;\n",
              "      flex-wrap:wrap;\n",
              "      gap: 12px;\n",
              "    }\n",
              "\n",
              "    .colab-df-convert {\n",
              "      background-color: #E8F0FE;\n",
              "      border: none;\n",
              "      border-radius: 50%;\n",
              "      cursor: pointer;\n",
              "      display: none;\n",
              "      fill: #1967D2;\n",
              "      height: 32px;\n",
              "      padding: 0 0 0 0;\n",
              "      width: 32px;\n",
              "    }\n",
              "\n",
              "    .colab-df-convert:hover {\n",
              "      background-color: #E2EBFA;\n",
              "      box-shadow: 0px 1px 2px rgba(60, 64, 67, 0.3), 0px 1px 3px 1px rgba(60, 64, 67, 0.15);\n",
              "      fill: #174EA6;\n",
              "    }\n",
              "\n",
              "    [theme=dark] .colab-df-convert {\n",
              "      background-color: #3B4455;\n",
              "      fill: #D2E3FC;\n",
              "    }\n",
              "\n",
              "    [theme=dark] .colab-df-convert:hover {\n",
              "      background-color: #434B5C;\n",
              "      box-shadow: 0px 1px 3px 1px rgba(0, 0, 0, 0.15);\n",
              "      filter: drop-shadow(0px 1px 2px rgba(0, 0, 0, 0.3));\n",
              "      fill: #FFFFFF;\n",
              "    }\n",
              "  </style>\n",
              "\n",
              "      <script>\n",
              "        const buttonEl =\n",
              "          document.querySelector('#df-9eb4c820-79ea-43fd-a675-1b11cec7de87 button.colab-df-convert');\n",
              "        buttonEl.style.display =\n",
              "          google.colab.kernel.accessAllowed ? 'block' : 'none';\n",
              "\n",
              "        async function convertToInteractive(key) {\n",
              "          const element = document.querySelector('#df-9eb4c820-79ea-43fd-a675-1b11cec7de87');\n",
              "          const dataTable =\n",
              "            await google.colab.kernel.invokeFunction('convertToInteractive',\n",
              "                                                     [key], {});\n",
              "          if (!dataTable) return;\n",
              "\n",
              "          const docLinkHtml = 'Like what you see? Visit the ' +\n",
              "            '<a target=\"_blank\" href=https://colab.research.google.com/notebooks/data_table.ipynb>data table notebook</a>'\n",
              "            + ' to learn more about interactive tables.';\n",
              "          element.innerHTML = '';\n",
              "          dataTable['output_type'] = 'display_data';\n",
              "          await google.colab.output.renderOutput(dataTable, element);\n",
              "          const docLink = document.createElement('div');\n",
              "          docLink.innerHTML = docLinkHtml;\n",
              "          element.appendChild(docLink);\n",
              "        }\n",
              "      </script>\n",
              "    </div>\n",
              "  </div>\n",
              "  "
            ]
          },
          "metadata": {},
          "execution_count": 27
        }
      ]
    },
    {
      "cell_type": "code",
      "source": [
        "# df.Genre[df[df.Genre.isna()].index.tolist()] = [\"Action\", \"Role-Playing\", \"Driving\", \"Action Adventure\", \"Adventure\", \"Puzzle\", \n",
        "#                                                 \"Adventure\", \"Action\", \"Role-Playing\", \"Action\", \"Action Adventure\", \"Adventure\", \n",
        "#                                                 \"Adventure\", \"Action\", \"Strategy\", \"Action\", \"Puzzle\", \"Puzzle\", \"Role-Playing\"]"
      ],
      "metadata": {
        "id": "hHCaNXPY6DsE"
      },
      "execution_count": 28,
      "outputs": []
    },
    {
      "cell_type": "code",
      "source": [
        "df.Genre[df[df.Genre.isna()].index.tolist()] = [\"Simulation\", \"Platform\", \"Racing\", \"Misc\", \"Platform\", \"Action Adventure\", \"Action\", \"Role-Playing\", \"Puzzle\", \"Adventure\", \"Racing\", \"Misc\", \"Misc\", \"Misc\", \"Sports\", \"Adventure\", \"Sports\", \"Misc\", \"Misc\", \"Fighting\", \"Fighting\", \"Misc\", \"Fighting\", \"Action\", \"Puzzle\", \"Simulation\"]"
      ],
      "metadata": {
        "colab": {
          "base_uri": "https://localhost:8080/",
          "height": 0
        },
        "id": "6XfuyHnK3Qv6",
        "outputId": "3065affe-1f68-476d-8e1b-a0defc2f81bc"
      },
      "execution_count": 29,
      "outputs": [
        {
          "output_type": "stream",
          "name": "stderr",
          "text": [
            "/usr/local/lib/python3.7/dist-packages/ipykernel_launcher.py:1: SettingWithCopyWarning: \n",
            "A value is trying to be set on a copy of a slice from a DataFrame\n",
            "\n",
            "See the caveats in the documentation: https://pandas.pydata.org/pandas-docs/stable/user_guide/indexing.html#returning-a-view-versus-a-copy\n",
            "  \"\"\"Entry point for launching an IPython kernel.\n"
          ]
        }
      ]
    },
    {
      "cell_type": "code",
      "source": [
        "df.Genre = df.Genre.replace('Miscellaneous','Misc')"
      ],
      "metadata": {
        "id": "fl95tYKD_D4u"
      },
      "execution_count": 30,
      "outputs": []
    },
    {
      "cell_type": "markdown",
      "source": [
        "## Publisher"
      ],
      "metadata": {
        "id": "OwaGrjahsQR5"
      }
    },
    {
      "cell_type": "markdown",
      "source": [
        "### Metacritic에서 가져오기"
      ],
      "metadata": {
        "id": "M_ey06bzsfjo"
      }
    },
    {
      "cell_type": "code",
      "source": [
        "def find_game_Publisher_meta(game_name, platform):\n",
        "  try:\n",
        "    game_name = game_name.lower().replace(' ','-').replace(':','-').replace('--','-').replace('--','-').replace(\"'\",'')\n",
        "    platform = urlplatform[platform]\n",
        "    url = \"https://www.metacritic.com/game/\"+platform+\"/\"+game_name\n",
        "    req = Request(url,headers={'User-Agent':'Mozila/5.0'})\n",
        "    webpage = urlopen(req)\n",
        "    soup = BeautifulSoup(webpage)\n",
        "    publisher = soup.find('li', { 'class' : \"summary_detail publisher\"})\n",
        "    return str(publisher).split('<span class=\"data\">')[1].split('</span>')[0]\n",
        "  except:\n",
        "    return np.NAN"
      ],
      "metadata": {
        "id": "GjwCw4hd-dx6"
      },
      "execution_count": 31,
      "outputs": []
    },
    {
      "cell_type": "code",
      "source": [
        "df.Publisher = df.apply(lambda row: find_game_Publisher_meta(row.Name, row.Platform) if pd.isna(row.Publisher) else row.Publisher, axis=1)"
      ],
      "metadata": {
        "id": "uoD-kUMz_Aca"
      },
      "execution_count": 32,
      "outputs": []
    },
    {
      "cell_type": "markdown",
      "source": [
        "### Wikipedia에서 가져오기"
      ],
      "metadata": {
        "id": "oBVlrKtmsjA3"
      }
    },
    {
      "cell_type": "code",
      "source": [
        "def find_game_publisher(game_name):\n",
        "  try:\n",
        "    url = \"https://en.wikipedia.org/wiki/\"+game_name\n",
        "    url = url.replace(' ','_')\n",
        "    req = Request(url,headers={'User-Agent':'Mozila/5.0'})\n",
        "    \n",
        "    webpage = urlopen(req)\n",
        "    \n",
        "    soup = BeautifulSoup(webpage)\n",
        "\n",
        "    htmltable = soup.find('table', { 'class' : \"infobox ib-video-game hproduct\"})\n",
        "    from itertools import product\n",
        "    def table_to_2d(table_tag):\n",
        "        rowspans = []\n",
        "        rows = table_tag.find_all('tr')\n",
        "\n",
        "        colcount = 0\n",
        "        for r, row in enumerate(rows):\n",
        "            cells = row.find_all(['td', 'th'], recursive=False)\n",
        "            colcount = max(\n",
        "                colcount,\n",
        "                sum(int(c.get('colspan', 1)) or 1 for c in cells[:-1]) + len(cells[-1:]) + len(rowspans))\n",
        "            rowspans += [int(c.get('rowspan', 1)) or len(rows) - r for c in cells]\n",
        "            rowspans = [s - 1 for s in rowspans if s > 1]\n",
        "\n",
        "        table = [[None] * colcount for row in rows]\n",
        "\n",
        "        rowspans = {}\n",
        "        for row, row_elem in enumerate(rows):\n",
        "            span_offset = 0\n",
        "            for col, cell in enumerate(row_elem.find_all(['td', 'th'], recursive=False)):\n",
        "                col += span_offset\n",
        "                while rowspans.get(col, 0):\n",
        "                    span_offset += 1\n",
        "                    col += 1\n",
        "                    \n",
        "                rowspan = rowspans[col] = int(cell.get('rowspan', 1)) or len(rows) - row\n",
        "                colspan = int(cell.get('colspan', 1)) or colcount - col\n",
        "                span_offset += colspan - 1\n",
        "                value = cell.get_text()\n",
        "                for drow, dcol in product(range(rowspan), range(colspan)):\n",
        "                    try:\n",
        "                        table[row + drow][col + dcol] = value\n",
        "                        rowspans[col + dcol] = rowspan\n",
        "                    except IndexError:\n",
        "                        pass\n",
        "                        \n",
        "            rowspans = {c: s - 1 for c, s in rowspans.items() if s > 1}\n",
        "\n",
        "        return table\n",
        "\n",
        "    temp_table = pd.DataFrame(table_to_2d(htmltable)).set_index(0)\n",
        "    temp = temp_table.loc['Publisher(s)'][1]\n",
        "    return temp\n",
        "  except:\n",
        "    return np.NAN"
      ],
      "metadata": {
        "id": "ydYLcetl_JXx"
      },
      "execution_count": 33,
      "outputs": []
    },
    {
      "cell_type": "code",
      "source": [
        "df.Publisher = df.apply(lambda row: find_game_publisher(row.Name) if pd.isna(row.Publisher) else row.Publisher, axis=1)"
      ],
      "metadata": {
        "id": "5HXY1NKeAlWP"
      },
      "execution_count": 34,
      "outputs": []
    },
    {
      "cell_type": "markdown",
      "source": [
        "### 나머지 결측치"
      ],
      "metadata": {
        "id": "higpIrLesw_w"
      }
    },
    {
      "cell_type": "markdown",
      "source": [
        "나머지 Publisher는 Unknown으로 취급한다."
      ],
      "metadata": {
        "id": "uu-pYxZjEk2d"
      }
    },
    {
      "cell_type": "code",
      "source": [
        "df['Publisher'] =  df['Publisher'].fillna('Unknown')"
      ],
      "metadata": {
        "id": "rfCv1S5Q-KVy"
      },
      "execution_count": 35,
      "outputs": []
    },
    {
      "cell_type": "markdown",
      "source": [
        "## Sales"
      ],
      "metadata": {
        "id": "IDZD2QbJs5Pf"
      }
    },
    {
      "cell_type": "markdown",
      "source": [
        "판매량의 데이터를 float으로 바꾼다.<br>\n",
        "룬팩3, 룬팩 프론티어의 실제 일본 판매량이 각각 10만장, 4만장이고 표시된 숫자는 0.1, 0.04임을 고려하면, 배율은 약 100만으로 생각하면 된다.<br>\n",
        "전처리를 방해하는 뒤의 K(Kilounits)와 M(Megaunits)은 각각 1000, 100만이므로,<br>\n",
        "K는 0.001을 곱해주고, M은 그냥 제거하면 된다."
      ],
      "metadata": {
        "id": "Q49b3F0OIlNW"
      }
    },
    {
      "cell_type": "markdown",
      "source": [
        "### K와 M을 지우기"
      ],
      "metadata": {
        "id": "NM3xkICitAif"
      }
    },
    {
      "cell_type": "code",
      "source": [
        "Sales_cols = df.columns[df.columns.str.endswith('_Sales')]\n",
        "for col in Sales_cols:\n",
        "  t1 = df[col].str.endswith('K', na=False)\n",
        "  if t1.sum():\n",
        "    temp = df[t1].index\n",
        "    for i in temp:\n",
        "      t = df[col][i]\n",
        "      df[col][i] = float(t[:-1])*0.001\n",
        "\n",
        "for col in Sales_cols:\n",
        "  t1 = df[col].str.endswith('M', na=False)\n",
        "  if t1.sum():\n",
        "    temp = df[t1].index\n",
        "    for i in temp:\n",
        "      t = df[col][i]\n",
        "      df[col][i] = float(t[:-1])"
      ],
      "metadata": {
        "id": "b_DE4PjPA4Bx",
        "colab": {
          "base_uri": "https://localhost:8080/",
          "height": 0
        },
        "outputId": "c224f793-173c-4e7d-c262-190b068784e0"
      },
      "execution_count": 36,
      "outputs": [
        {
          "output_type": "stream",
          "name": "stderr",
          "text": [
            "/usr/local/lib/python3.7/dist-packages/ipykernel_launcher.py:8: SettingWithCopyWarning: \n",
            "A value is trying to be set on a copy of a slice from a DataFrame\n",
            "\n",
            "See the caveats in the documentation: https://pandas.pydata.org/pandas-docs/stable/user_guide/indexing.html#returning-a-view-versus-a-copy\n",
            "  \n",
            "/usr/local/lib/python3.7/dist-packages/ipykernel_launcher.py:16: SettingWithCopyWarning: \n",
            "A value is trying to be set on a copy of a slice from a DataFrame\n",
            "\n",
            "See the caveats in the documentation: https://pandas.pydata.org/pandas-docs/stable/user_guide/indexing.html#returning-a-view-versus-a-copy\n",
            "  app.launch_new_instance()\n"
          ]
        }
      ]
    },
    {
      "cell_type": "markdown",
      "source": [
        "### 데이터 타입을 float로 바꾸기"
      ],
      "metadata": {
        "id": "pNvUkt2ttKWn"
      }
    },
    {
      "cell_type": "code",
      "source": [
        "df[Sales_cols] = df[Sales_cols].astype(float)"
      ],
      "metadata": {
        "id": "079Y3JXmSuUz"
      },
      "execution_count": 37,
      "outputs": []
    },
    {
      "cell_type": "code",
      "source": [
        "df = df.sort_values(by=['Year', 'Name'])\n",
        "df = df.reset_index(drop = True)\n",
        "df.to_csv('vgames_mod.csv',index=False) #melt를 적용하지 않은 df"
      ],
      "metadata": {
        "id": "dzt1pmGaYqJU"
      },
      "execution_count": 38,
      "outputs": []
    },
    {
      "cell_type": "markdown",
      "source": [
        "### Melt로 처리 후 결측치 제거"
      ],
      "metadata": {
        "id": "zUUJdnsa5O6X"
      }
    },
    {
      "cell_type": "code",
      "source": [
        "Sales_cols = df.columns[df.columns.str.endswith('_Sales')]\n",
        "ids = [item for item in df.columns if item not in Sales_cols]\n",
        "df = pd.melt(df, id_vars=ids, value_vars=Sales_cols, var_name = 'State', value_name = 'Sales')\n",
        "df.State = df.State.str.replace('_Sales','')"
      ],
      "metadata": {
        "id": "Emrjaz985LPk"
      },
      "execution_count": 39,
      "outputs": []
    },
    {
      "cell_type": "markdown",
      "source": [
        "## 마무리 확인 & 전처리 데이터 내보내기"
      ],
      "metadata": {
        "id": "uIPQoYtftSYe"
      }
    },
    {
      "cell_type": "code",
      "source": [
        "df.info()"
      ],
      "metadata": {
        "colab": {
          "base_uri": "https://localhost:8080/",
          "height": 0
        },
        "id": "RtRC81dh3s3J",
        "outputId": "18860d98-f98b-485c-a74b-a3b795bf736a"
      },
      "execution_count": 40,
      "outputs": [
        {
          "output_type": "stream",
          "name": "stdout",
          "text": [
            "<class 'pandas.core.frame.DataFrame'>\n",
            "RangeIndex: 66392 entries, 0 to 66391\n",
            "Data columns (total 7 columns):\n",
            " #   Column     Non-Null Count  Dtype  \n",
            "---  ------     --------------  -----  \n",
            " 0   Name       66392 non-null  object \n",
            " 1   Platform   66392 non-null  object \n",
            " 2   Year       66392 non-null  Int32  \n",
            " 3   Genre      66392 non-null  object \n",
            " 4   Publisher  66392 non-null  object \n",
            " 5   State      66392 non-null  object \n",
            " 6   Sales      66392 non-null  float64\n",
            "dtypes: Int32(1), float64(1), object(5)\n",
            "memory usage: 3.4+ MB\n"
          ]
        }
      ]
    },
    {
      "cell_type": "code",
      "source": [
        "df.isnull().sum()"
      ],
      "metadata": {
        "colab": {
          "base_uri": "https://localhost:8080/",
          "height": 0
        },
        "id": "pb8LGphnVD4V",
        "outputId": "b0cc8313-ba27-441a-fe1c-ac5b2adc6944"
      },
      "execution_count": 41,
      "outputs": [
        {
          "output_type": "execute_result",
          "data": {
            "text/plain": [
              "Name         0\n",
              "Platform     0\n",
              "Year         0\n",
              "Genre        0\n",
              "Publisher    0\n",
              "State        0\n",
              "Sales        0\n",
              "dtype: int64"
            ]
          },
          "metadata": {},
          "execution_count": 41
        }
      ]
    },
    {
      "cell_type": "code",
      "source": [
        "df = df.sort_values(by=['Year', 'Name'])\n",
        "df = df.reset_index(drop = True)"
      ],
      "metadata": {
        "id": "WXbabVimY_fF"
      },
      "execution_count": 42,
      "outputs": []
    },
    {
      "cell_type": "markdown",
      "source": [
        "결측치를 모두 처리하였으며, 데이터 타입도 모두 바꾸었다.<br>\n",
        "마지막으로 연도와 이름 순으로 정렬 후 index를 리셋하는 것으로 전처리를 마무리한다."
      ],
      "metadata": {
        "id": "bWETVweIZCHg"
      }
    },
    {
      "cell_type": "code",
      "source": [
        "df.to_csv('vgames_mod2.csv',index=False) #melt를 적용한 df"
      ],
      "metadata": {
        "id": "BSbCQDKCrhOa"
      },
      "execution_count": 43,
      "outputs": []
    },
    {
      "cell_type": "markdown",
      "source": [
        "# 데이터 활용"
      ],
      "metadata": {
        "id": "6S8u5-xbtg9A"
      }
    },
    {
      "cell_type": "code",
      "source": [
        "df = pd.read_csv(\"/content/vgames_mod2.csv\")\n",
        "df.State = df.State.replace(np.NaN,'NA')"
      ],
      "metadata": {
        "id": "brfUSwUur4N3"
      },
      "execution_count": 44,
      "outputs": []
    },
    {
      "cell_type": "code",
      "source": [
        "display(df.head())"
      ],
      "metadata": {
        "colab": {
          "base_uri": "https://localhost:8080/",
          "height": 206
        },
        "id": "-oW02bdM4Agi",
        "outputId": "25c9c801-0a96-4a81-98b7-f4f4a0f90e42"
      },
      "execution_count": 45,
      "outputs": [
        {
          "output_type": "display_data",
          "data": {
            "text/plain": [
              "             Name Platform  Year      Genre Publisher  State  Sales\n",
              "0       Adventure     2600  1976  Adventure     Atari     NA   1.21\n",
              "1       Adventure     2600  1976  Adventure     Atari     EU   0.08\n",
              "2       Adventure     2600  1976  Adventure     Atari     JP   0.00\n",
              "3       Adventure     2600  1976  Adventure     Atari  Other   0.01\n",
              "4  Air-Sea Battle     2600  1977    Shooter     Atari     NA   0.91"
            ],
            "text/html": [
              "\n",
              "  <div id=\"df-c08be469-3c21-4292-ab75-8a3459f75295\">\n",
              "    <div class=\"colab-df-container\">\n",
              "      <div>\n",
              "<style scoped>\n",
              "    .dataframe tbody tr th:only-of-type {\n",
              "        vertical-align: middle;\n",
              "    }\n",
              "\n",
              "    .dataframe tbody tr th {\n",
              "        vertical-align: top;\n",
              "    }\n",
              "\n",
              "    .dataframe thead th {\n",
              "        text-align: right;\n",
              "    }\n",
              "</style>\n",
              "<table border=\"1\" class=\"dataframe\">\n",
              "  <thead>\n",
              "    <tr style=\"text-align: right;\">\n",
              "      <th></th>\n",
              "      <th>Name</th>\n",
              "      <th>Platform</th>\n",
              "      <th>Year</th>\n",
              "      <th>Genre</th>\n",
              "      <th>Publisher</th>\n",
              "      <th>State</th>\n",
              "      <th>Sales</th>\n",
              "    </tr>\n",
              "  </thead>\n",
              "  <tbody>\n",
              "    <tr>\n",
              "      <th>0</th>\n",
              "      <td>Adventure</td>\n",
              "      <td>2600</td>\n",
              "      <td>1976</td>\n",
              "      <td>Adventure</td>\n",
              "      <td>Atari</td>\n",
              "      <td>NA</td>\n",
              "      <td>1.21</td>\n",
              "    </tr>\n",
              "    <tr>\n",
              "      <th>1</th>\n",
              "      <td>Adventure</td>\n",
              "      <td>2600</td>\n",
              "      <td>1976</td>\n",
              "      <td>Adventure</td>\n",
              "      <td>Atari</td>\n",
              "      <td>EU</td>\n",
              "      <td>0.08</td>\n",
              "    </tr>\n",
              "    <tr>\n",
              "      <th>2</th>\n",
              "      <td>Adventure</td>\n",
              "      <td>2600</td>\n",
              "      <td>1976</td>\n",
              "      <td>Adventure</td>\n",
              "      <td>Atari</td>\n",
              "      <td>JP</td>\n",
              "      <td>0.00</td>\n",
              "    </tr>\n",
              "    <tr>\n",
              "      <th>3</th>\n",
              "      <td>Adventure</td>\n",
              "      <td>2600</td>\n",
              "      <td>1976</td>\n",
              "      <td>Adventure</td>\n",
              "      <td>Atari</td>\n",
              "      <td>Other</td>\n",
              "      <td>0.01</td>\n",
              "    </tr>\n",
              "    <tr>\n",
              "      <th>4</th>\n",
              "      <td>Air-Sea Battle</td>\n",
              "      <td>2600</td>\n",
              "      <td>1977</td>\n",
              "      <td>Shooter</td>\n",
              "      <td>Atari</td>\n",
              "      <td>NA</td>\n",
              "      <td>0.91</td>\n",
              "    </tr>\n",
              "  </tbody>\n",
              "</table>\n",
              "</div>\n",
              "      <button class=\"colab-df-convert\" onclick=\"convertToInteractive('df-c08be469-3c21-4292-ab75-8a3459f75295')\"\n",
              "              title=\"Convert this dataframe to an interactive table.\"\n",
              "              style=\"display:none;\">\n",
              "        \n",
              "  <svg xmlns=\"http://www.w3.org/2000/svg\" height=\"24px\"viewBox=\"0 0 24 24\"\n",
              "       width=\"24px\">\n",
              "    <path d=\"M0 0h24v24H0V0z\" fill=\"none\"/>\n",
              "    <path d=\"M18.56 5.44l.94 2.06.94-2.06 2.06-.94-2.06-.94-.94-2.06-.94 2.06-2.06.94zm-11 1L8.5 8.5l.94-2.06 2.06-.94-2.06-.94L8.5 2.5l-.94 2.06-2.06.94zm10 10l.94 2.06.94-2.06 2.06-.94-2.06-.94-.94-2.06-.94 2.06-2.06.94z\"/><path d=\"M17.41 7.96l-1.37-1.37c-.4-.4-.92-.59-1.43-.59-.52 0-1.04.2-1.43.59L10.3 9.45l-7.72 7.72c-.78.78-.78 2.05 0 2.83L4 21.41c.39.39.9.59 1.41.59.51 0 1.02-.2 1.41-.59l7.78-7.78 2.81-2.81c.8-.78.8-2.07 0-2.86zM5.41 20L4 18.59l7.72-7.72 1.47 1.35L5.41 20z\"/>\n",
              "  </svg>\n",
              "      </button>\n",
              "      \n",
              "  <style>\n",
              "    .colab-df-container {\n",
              "      display:flex;\n",
              "      flex-wrap:wrap;\n",
              "      gap: 12px;\n",
              "    }\n",
              "\n",
              "    .colab-df-convert {\n",
              "      background-color: #E8F0FE;\n",
              "      border: none;\n",
              "      border-radius: 50%;\n",
              "      cursor: pointer;\n",
              "      display: none;\n",
              "      fill: #1967D2;\n",
              "      height: 32px;\n",
              "      padding: 0 0 0 0;\n",
              "      width: 32px;\n",
              "    }\n",
              "\n",
              "    .colab-df-convert:hover {\n",
              "      background-color: #E2EBFA;\n",
              "      box-shadow: 0px 1px 2px rgba(60, 64, 67, 0.3), 0px 1px 3px 1px rgba(60, 64, 67, 0.15);\n",
              "      fill: #174EA6;\n",
              "    }\n",
              "\n",
              "    [theme=dark] .colab-df-convert {\n",
              "      background-color: #3B4455;\n",
              "      fill: #D2E3FC;\n",
              "    }\n",
              "\n",
              "    [theme=dark] .colab-df-convert:hover {\n",
              "      background-color: #434B5C;\n",
              "      box-shadow: 0px 1px 3px 1px rgba(0, 0, 0, 0.15);\n",
              "      filter: drop-shadow(0px 1px 2px rgba(0, 0, 0, 0.3));\n",
              "      fill: #FFFFFF;\n",
              "    }\n",
              "  </style>\n",
              "\n",
              "      <script>\n",
              "        const buttonEl =\n",
              "          document.querySelector('#df-c08be469-3c21-4292-ab75-8a3459f75295 button.colab-df-convert');\n",
              "        buttonEl.style.display =\n",
              "          google.colab.kernel.accessAllowed ? 'block' : 'none';\n",
              "\n",
              "        async function convertToInteractive(key) {\n",
              "          const element = document.querySelector('#df-c08be469-3c21-4292-ab75-8a3459f75295');\n",
              "          const dataTable =\n",
              "            await google.colab.kernel.invokeFunction('convertToInteractive',\n",
              "                                                     [key], {});\n",
              "          if (!dataTable) return;\n",
              "\n",
              "          const docLinkHtml = 'Like what you see? Visit the ' +\n",
              "            '<a target=\"_blank\" href=https://colab.research.google.com/notebooks/data_table.ipynb>data table notebook</a>'\n",
              "            + ' to learn more about interactive tables.';\n",
              "          element.innerHTML = '';\n",
              "          dataTable['output_type'] = 'display_data';\n",
              "          await google.colab.output.renderOutput(dataTable, element);\n",
              "          const docLink = document.createElement('div');\n",
              "          docLink.innerHTML = docLinkHtml;\n",
              "          element.appendChild(docLink);\n",
              "        }\n",
              "      </script>\n",
              "    </div>\n",
              "  </div>\n",
              "  "
            ]
          },
          "metadata": {}
        }
      ]
    },
    {
      "cell_type": "markdown",
      "source": [
        "## Mission 1 : 지역에 따라서 선호하는 게임 장르가 다를까?"
      ],
      "metadata": {
        "id": "E31cDMZoGfp4"
      }
    },
    {
      "cell_type": "markdown",
      "source": [
        "\n",
        "\n",
        "*   Solution 1_1: Anova 분석를 이용한 답 도출 \n",
        " \n",
        "\n",
        "\n"
      ],
      "metadata": {
        "id": "qVnpwLRyWm7c"
      }
    },
    {
      "cell_type": "code",
      "source": [
        "from statsmodels.formula.api import ols\n",
        "import statsmodels.api as sm\n",
        "from statsmodels.stats.multicomp import pairwise_tukeyhsd"
      ],
      "metadata": {
        "id": "vCGJz-esVq43"
      },
      "execution_count": 46,
      "outputs": []
    },
    {
      "cell_type": "code",
      "source": [
        "out = ols('Sales ~ State*Genre', data=df).fit()\n",
        "print(\"ANOVA\")\n",
        "display(sm.stats.anova_lm(out, typ=2))"
      ],
      "metadata": {
        "colab": {
          "base_uri": "https://localhost:8080/",
          "height": 193
        },
        "id": "8FJ0sulzjd0N",
        "outputId": "7a3fb3bc-b00a-4ac8-887d-c34a940deedf"
      },
      "execution_count": 47,
      "outputs": [
        {
          "output_type": "stream",
          "name": "stdout",
          "text": [
            "ANOVA\n"
          ]
        },
        {
          "output_type": "display_data",
          "data": {
            "text/plain": [
              "                   sum_sq       df           F        PR(>F)\n",
              "State          461.082116      3.0  592.099774  0.000000e+00\n",
              "Genre          121.715483     13.0   36.069519  1.278720e-91\n",
              "State:Genre    145.369382     39.0   14.359728  4.965824e-93\n",
              "Residual     17219.138048  66336.0         NaN           NaN"
            ],
            "text/html": [
              "\n",
              "  <div id=\"df-cfc7b7f4-7117-474b-a674-b96cf4a55a40\">\n",
              "    <div class=\"colab-df-container\">\n",
              "      <div>\n",
              "<style scoped>\n",
              "    .dataframe tbody tr th:only-of-type {\n",
              "        vertical-align: middle;\n",
              "    }\n",
              "\n",
              "    .dataframe tbody tr th {\n",
              "        vertical-align: top;\n",
              "    }\n",
              "\n",
              "    .dataframe thead th {\n",
              "        text-align: right;\n",
              "    }\n",
              "</style>\n",
              "<table border=\"1\" class=\"dataframe\">\n",
              "  <thead>\n",
              "    <tr style=\"text-align: right;\">\n",
              "      <th></th>\n",
              "      <th>sum_sq</th>\n",
              "      <th>df</th>\n",
              "      <th>F</th>\n",
              "      <th>PR(&gt;F)</th>\n",
              "    </tr>\n",
              "  </thead>\n",
              "  <tbody>\n",
              "    <tr>\n",
              "      <th>State</th>\n",
              "      <td>461.082116</td>\n",
              "      <td>3.0</td>\n",
              "      <td>592.099774</td>\n",
              "      <td>0.000000e+00</td>\n",
              "    </tr>\n",
              "    <tr>\n",
              "      <th>Genre</th>\n",
              "      <td>121.715483</td>\n",
              "      <td>13.0</td>\n",
              "      <td>36.069519</td>\n",
              "      <td>1.278720e-91</td>\n",
              "    </tr>\n",
              "    <tr>\n",
              "      <th>State:Genre</th>\n",
              "      <td>145.369382</td>\n",
              "      <td>39.0</td>\n",
              "      <td>14.359728</td>\n",
              "      <td>4.965824e-93</td>\n",
              "    </tr>\n",
              "    <tr>\n",
              "      <th>Residual</th>\n",
              "      <td>17219.138048</td>\n",
              "      <td>66336.0</td>\n",
              "      <td>NaN</td>\n",
              "      <td>NaN</td>\n",
              "    </tr>\n",
              "  </tbody>\n",
              "</table>\n",
              "</div>\n",
              "      <button class=\"colab-df-convert\" onclick=\"convertToInteractive('df-cfc7b7f4-7117-474b-a674-b96cf4a55a40')\"\n",
              "              title=\"Convert this dataframe to an interactive table.\"\n",
              "              style=\"display:none;\">\n",
              "        \n",
              "  <svg xmlns=\"http://www.w3.org/2000/svg\" height=\"24px\"viewBox=\"0 0 24 24\"\n",
              "       width=\"24px\">\n",
              "    <path d=\"M0 0h24v24H0V0z\" fill=\"none\"/>\n",
              "    <path d=\"M18.56 5.44l.94 2.06.94-2.06 2.06-.94-2.06-.94-.94-2.06-.94 2.06-2.06.94zm-11 1L8.5 8.5l.94-2.06 2.06-.94-2.06-.94L8.5 2.5l-.94 2.06-2.06.94zm10 10l.94 2.06.94-2.06 2.06-.94-2.06-.94-.94-2.06-.94 2.06-2.06.94z\"/><path d=\"M17.41 7.96l-1.37-1.37c-.4-.4-.92-.59-1.43-.59-.52 0-1.04.2-1.43.59L10.3 9.45l-7.72 7.72c-.78.78-.78 2.05 0 2.83L4 21.41c.39.39.9.59 1.41.59.51 0 1.02-.2 1.41-.59l7.78-7.78 2.81-2.81c.8-.78.8-2.07 0-2.86zM5.41 20L4 18.59l7.72-7.72 1.47 1.35L5.41 20z\"/>\n",
              "  </svg>\n",
              "      </button>\n",
              "      \n",
              "  <style>\n",
              "    .colab-df-container {\n",
              "      display:flex;\n",
              "      flex-wrap:wrap;\n",
              "      gap: 12px;\n",
              "    }\n",
              "\n",
              "    .colab-df-convert {\n",
              "      background-color: #E8F0FE;\n",
              "      border: none;\n",
              "      border-radius: 50%;\n",
              "      cursor: pointer;\n",
              "      display: none;\n",
              "      fill: #1967D2;\n",
              "      height: 32px;\n",
              "      padding: 0 0 0 0;\n",
              "      width: 32px;\n",
              "    }\n",
              "\n",
              "    .colab-df-convert:hover {\n",
              "      background-color: #E2EBFA;\n",
              "      box-shadow: 0px 1px 2px rgba(60, 64, 67, 0.3), 0px 1px 3px 1px rgba(60, 64, 67, 0.15);\n",
              "      fill: #174EA6;\n",
              "    }\n",
              "\n",
              "    [theme=dark] .colab-df-convert {\n",
              "      background-color: #3B4455;\n",
              "      fill: #D2E3FC;\n",
              "    }\n",
              "\n",
              "    [theme=dark] .colab-df-convert:hover {\n",
              "      background-color: #434B5C;\n",
              "      box-shadow: 0px 1px 3px 1px rgba(0, 0, 0, 0.15);\n",
              "      filter: drop-shadow(0px 1px 2px rgba(0, 0, 0, 0.3));\n",
              "      fill: #FFFFFF;\n",
              "    }\n",
              "  </style>\n",
              "\n",
              "      <script>\n",
              "        const buttonEl =\n",
              "          document.querySelector('#df-cfc7b7f4-7117-474b-a674-b96cf4a55a40 button.colab-df-convert');\n",
              "        buttonEl.style.display =\n",
              "          google.colab.kernel.accessAllowed ? 'block' : 'none';\n",
              "\n",
              "        async function convertToInteractive(key) {\n",
              "          const element = document.querySelector('#df-cfc7b7f4-7117-474b-a674-b96cf4a55a40');\n",
              "          const dataTable =\n",
              "            await google.colab.kernel.invokeFunction('convertToInteractive',\n",
              "                                                     [key], {});\n",
              "          if (!dataTable) return;\n",
              "\n",
              "          const docLinkHtml = 'Like what you see? Visit the ' +\n",
              "            '<a target=\"_blank\" href=https://colab.research.google.com/notebooks/data_table.ipynb>data table notebook</a>'\n",
              "            + ' to learn more about interactive tables.';\n",
              "          element.innerHTML = '';\n",
              "          dataTable['output_type'] = 'display_data';\n",
              "          await google.colab.output.renderOutput(dataTable, element);\n",
              "          const docLink = document.createElement('div');\n",
              "          docLink.innerHTML = docLinkHtml;\n",
              "          element.appendChild(docLink);\n",
              "        }\n",
              "      </script>\n",
              "    </div>\n",
              "  </div>\n",
              "  "
            ]
          },
          "metadata": {}
        }
      ]
    },
    {
      "cell_type": "markdown",
      "source": [
        "지역(State)과 장르(Genre) 상호작용(State:Genre)에 대한 p-value = 1.247609e-92<0.05이므로,<br> \n",
        "유의수준 5% 하에서 지역과 장르에 따라 매출량이 다르다.\n",
        "따라서 지역에 따라서 선호하는 게임 장르가 다르다."
      ],
      "metadata": {
        "id": "H6E9jre2oo81"
      }
    },
    {
      "cell_type": "code",
      "source": [
        "import seaborn as sns"
      ],
      "metadata": {
        "id": "RBwBKGhtrJcC"
      },
      "execution_count": 48,
      "outputs": []
    },
    {
      "cell_type": "markdown",
      "source": [
        "*   Solution 1_2: sns.barplot을 통한 시각화 프로세스"
      ],
      "metadata": {
        "id": "AQDLz6UuFgeZ"
      }
    },
    {
      "cell_type": "code",
      "source": [
        "df_NA = df[df.State == 'NA']\n",
        "df_EU = df[df.State == 'EU']\n",
        "df_JP = df[df.State == 'JP']\n",
        "df_Other = df[df.State == 'Other']"
      ],
      "metadata": {
        "id": "xV-BgRPBovQg"
      },
      "execution_count": 49,
      "outputs": []
    },
    {
      "cell_type": "code",
      "source": [
        "g = sns.FacetGrid(df, col = 'State', height=5)\n",
        "g.map(sns.barplot, \"Sales\", \"Genre\", palette=\"Set3\");"
      ],
      "metadata": {
        "colab": {
          "base_uri": "https://localhost:8080/",
          "height": 406
        },
        "id": "-ydAnTtUrbGf",
        "outputId": "4feba366-3e53-4b0d-928d-2af6d21a92f2"
      },
      "execution_count": 50,
      "outputs": [
        {
          "output_type": "stream",
          "name": "stderr",
          "text": [
            "/usr/local/lib/python3.7/dist-packages/seaborn/axisgrid.py:670: UserWarning: Using the barplot function without specifying `order` is likely to produce an incorrect plot.\n",
            "  warnings.warn(warning)\n"
          ]
        },
        {
          "output_type": "display_data",
          "data": {
            "text/plain": [
              "<Figure size 1440x360 with 4 Axes>"
            ],
            "image/png": "[encoded data removed]"
          },
          "metadata": {
            "needs_background": "light"
          }
        }
      ]
    },
    {
      "cell_type": "markdown",
      "source": [
        "* *Miscellaneous (Misc.) = 기타 분류를 의미*"
      ],
      "metadata": {
        "id": "bjOB4ezo-lW1"
      }
    },
    {
      "cell_type": "markdown",
      "source": [
        "boxplot을 그려보면, 지역에 따라서 선호하는 게임 장르가 다르다는 것을 확인할 수 있다.<br>\n",
        "특히, 북미, 유럽쪽은 Shooter, Platform가 우세인데 비해 <br>\n",
        "일본 지역은 RPG와 Action Adventure가 우세이다. <br>"
      ],
      "metadata": {
        "id": "4K34AbKPzz8j"
      }
    },
    {
      "cell_type": "markdown",
      "source": [
        "## Mission 2 : 연도별 게임의 트렌드가 있을까?"
      ],
      "metadata": {
        "id": "S5vv0OVUHlhd"
      }
    },
    {
      "cell_type": "markdown",
      "source": [
        "* 데이터의 평균과 합 중 어느것이 분석에 더 알맞을지 고민하다가 데이터에 포함된 게임수에 따라 어느 정도 보정이 있는 합보다는 평균이 더 알맞을 것 같아 평균을 기준으로 작성하였습니다.\n",
        "* 또한 도출해내고자 하는 값이 '다음 분기에 어떤 게임을 발매할까'이기에 평균을 고려하였습니다.\n",
        "* 처음에는 그래프를 선그래프로 할까 하다가 범례가 너무 많아지고 그만큼 읽기 힘든 그래프였습니다. 따라서 histplot을 약간 변형한 그래프를 만들었습니다."
      ],
      "metadata": {
        "id": "vp6FJgfKN5hT"
      }
    },
    {
      "cell_type": "markdown",
      "source": [
        "### 연도별 플랫폼의 변화"
      ],
      "metadata": {
        "id": "SJEabtQFlqvM"
      }
    },
    {
      "cell_type": "code",
      "source": [
        "dcd_list = []\n",
        "dcd = range(197, 202)\n",
        "for i in dcd:\n",
        "  temp = pd.DataFrame(df[(df.Year<=(i+1)*10) & (df.Year>(i)*10)].groupby(df.Platform).Sales.mean().round(2).sort_values(ascending=False)[:3]).reset_index()\n",
        "  temp.columns=pd.MultiIndex.from_product([[str((i)*10)+'s'],temp.columns])\n",
        "  dcd_list.append(temp)\n",
        "dcd_list = pd.concat(dcd_list, axis=1)\n",
        "dcd_list = dcd_list.replace(np.NaN, '')\n",
        "\n",
        "dcd2_list = []\n",
        "dcd = range(197, 202)\n",
        "for i in dcd:\n",
        "  temp = pd.DataFrame(df[(df.Year<=(i+1)*10) & (df.Year>(i)*10)].groupby(df.Platform).Sales.mean().round(2).sort_values(ascending=False)).reset_index().head(5)\n",
        "  dcd2_list.append(temp)\n",
        "dcd_list2 = pd.concat(dcd2_list, axis=0 , keys=dcd).reset_index()\n",
        "dcd_list2 = dcd_list2.rename(columns = {'level_0':'decade'}).drop('level_1', axis=1)\n",
        "\n",
        "dcd_list2.decade = (dcd_list2.decade*10).astype(str) + 's'\n",
        "plt.figure(figsize=(10,8))\n",
        "g=sns.histplot(dcd_list2, x=\"decade\", hue=\"Platform\", y=\"Sales\", binwidth=0.02)\n",
        "sns.move_legend(g, \"center left\", bbox_to_anchor=(1, 0.5))\n",
        "display(dcd_list.head(3))\n",
        "plt.show()"
      ],
      "metadata": {
        "colab": {
          "base_uri": "https://localhost:8080/",
          "height": 655
        },
        "id": "zWzXOW1IAejZ",
        "outputId": "a4c39f38-8e13-4b52-f427-fc37ea94ee7d"
      },
      "execution_count": 71,
      "outputs": [
        {
          "output_type": "display_data",
          "data": {
            "text/plain": [
              "     1970s          1980s          1990s          2000s          2010s      \n",
              "  Platform Sales Platform Sales Platform Sales Platform Sales Platform Sales\n",
              "0     2600  0.22     SNES  1.63       GB  0.59       GB  0.23      PS4  0.21\n",
              "1                      GB  1.27       PC  0.30      PS3  0.20     X360  0.19\n",
              "2                     NES  0.73      GEN  0.25     X360  0.20     XOne  0.17"
            ],
            "text/html": [
              "\n",
              "  <div id=\"df-f8257b1b-f609-4639-bb62-347178306326\">\n",
              "    <div class=\"colab-df-container\">\n",
              "      <div>\n",
              "<style scoped>\n",
              "    .dataframe tbody tr th:only-of-type {\n",
              "        vertical-align: middle;\n",
              "    }\n",
              "\n",
              "    .dataframe tbody tr th {\n",
              "        vertical-align: top;\n",
              "    }\n",
              "\n",
              "    .dataframe thead tr th {\n",
              "        text-align: left;\n",
              "    }\n",
              "</style>\n",
              "<table border=\"1\" class=\"dataframe\">\n",
              "  <thead>\n",
              "    <tr>\n",
              "      <th></th>\n",
              "      <th colspan=\"2\" halign=\"left\">1970s</th>\n",
              "      <th colspan=\"2\" halign=\"left\">1980s</th>\n",
              "      <th colspan=\"2\" halign=\"left\">1990s</th>\n",
              "      <th colspan=\"2\" halign=\"left\">2000s</th>\n",
              "      <th colspan=\"2\" halign=\"left\">2010s</th>\n",
              "    </tr>\n",
              "    <tr>\n",
              "      <th></th>\n",
              "      <th>Platform</th>\n",
              "      <th>Sales</th>\n",
              "      <th>Platform</th>\n",
              "      <th>Sales</th>\n",
              "      <th>Platform</th>\n",
              "      <th>Sales</th>\n",
              "      <th>Platform</th>\n",
              "      <th>Sales</th>\n",
              "      <th>Platform</th>\n",
              "      <th>Sales</th>\n",
              "    </tr>\n",
              "  </thead>\n",
              "  <tbody>\n",
              "    <tr>\n",
              "      <th>0</th>\n",
              "      <td>2600</td>\n",
              "      <td>0.22</td>\n",
              "      <td>SNES</td>\n",
              "      <td>1.63</td>\n",
              "      <td>GB</td>\n",
              "      <td>0.59</td>\n",
              "      <td>GB</td>\n",
              "      <td>0.23</td>\n",
              "      <td>PS4</td>\n",
              "      <td>0.21</td>\n",
              "    </tr>\n",
              "    <tr>\n",
              "      <th>1</th>\n",
              "      <td></td>\n",
              "      <td></td>\n",
              "      <td>GB</td>\n",
              "      <td>1.27</td>\n",
              "      <td>PC</td>\n",
              "      <td>0.30</td>\n",
              "      <td>PS3</td>\n",
              "      <td>0.20</td>\n",
              "      <td>X360</td>\n",
              "      <td>0.19</td>\n",
              "    </tr>\n",
              "    <tr>\n",
              "      <th>2</th>\n",
              "      <td></td>\n",
              "      <td></td>\n",
              "      <td>NES</td>\n",
              "      <td>0.73</td>\n",
              "      <td>GEN</td>\n",
              "      <td>0.25</td>\n",
              "      <td>X360</td>\n",
              "      <td>0.20</td>\n",
              "      <td>XOne</td>\n",
              "      <td>0.17</td>\n",
              "    </tr>\n",
              "  </tbody>\n",
              "</table>\n",
              "</div>\n",
              "      <button class=\"colab-df-convert\" onclick=\"convertToInteractive('df-f8257b1b-f609-4639-bb62-347178306326')\"\n",
              "              title=\"Convert this dataframe to an interactive table.\"\n",
              "              style=\"display:none;\">\n",
              "        \n",
              "  <svg xmlns=\"http://www.w3.org/2000/svg\" height=\"24px\"viewBox=\"0 0 24 24\"\n",
              "       width=\"24px\">\n",
              "    <path d=\"M0 0h24v24H0V0z\" fill=\"none\"/>\n",
              "    <path d=\"M18.56 5.44l.94 2.06.94-2.06 2.06-.94-2.06-.94-.94-2.06-.94 2.06-2.06.94zm-11 1L8.5 8.5l.94-2.06 2.06-.94-2.06-.94L8.5 2.5l-.94 2.06-2.06.94zm10 10l.94 2.06.94-2.06 2.06-.94-2.06-.94-.94-2.06-.94 2.06-2.06.94z\"/><path d=\"M17.41 7.96l-1.37-1.37c-.4-.4-.92-.59-1.43-.59-.52 0-1.04.2-1.43.59L10.3 9.45l-7.72 7.72c-.78.78-.78 2.05 0 2.83L4 21.41c.39.39.9.59 1.41.59.51 0 1.02-.2 1.41-.59l7.78-7.78 2.81-2.81c.8-.78.8-2.07 0-2.86zM5.41 20L4 18.59l7.72-7.72 1.47 1.35L5.41 20z\"/>\n",
              "  </svg>\n",
              "      </button>\n",
              "      \n",
              "  <style>\n",
              "    .colab-df-container {\n",
              "      display:flex;\n",
              "      flex-wrap:wrap;\n",
              "      gap: 12px;\n",
              "    }\n",
              "\n",
              "    .colab-df-convert {\n",
              "      background-color: #E8F0FE;\n",
              "      border: none;\n",
              "      border-radius: 50%;\n",
              "      cursor: pointer;\n",
              "      display: none;\n",
              "      fill: #1967D2;\n",
              "      height: 32px;\n",
              "      padding: 0 0 0 0;\n",
              "      width: 32px;\n",
              "    }\n",
              "\n",
              "    .colab-df-convert:hover {\n",
              "      background-color: #E2EBFA;\n",
              "      box-shadow: 0px 1px 2px rgba(60, 64, 67, 0.3), 0px 1px 3px 1px rgba(60, 64, 67, 0.15);\n",
              "      fill: #174EA6;\n",
              "    }\n",
              "\n",
              "    [theme=dark] .colab-df-convert {\n",
              "      background-color: #3B4455;\n",
              "      fill: #D2E3FC;\n",
              "    }\n",
              "\n",
              "    [theme=dark] .colab-df-convert:hover {\n",
              "      background-color: #434B5C;\n",
              "      box-shadow: 0px 1px 3px 1px rgba(0, 0, 0, 0.15);\n",
              "      filter: drop-shadow(0px 1px 2px rgba(0, 0, 0, 0.3));\n",
              "      fill: #FFFFFF;\n",
              "    }\n",
              "  </style>\n",
              "\n",
              "      <script>\n",
              "        const buttonEl =\n",
              "          document.querySelector('#df-f8257b1b-f609-4639-bb62-347178306326 button.colab-df-convert');\n",
              "        buttonEl.style.display =\n",
              "          google.colab.kernel.accessAllowed ? 'block' : 'none';\n",
              "\n",
              "        async function convertToInteractive(key) {\n",
              "          const element = document.querySelector('#df-f8257b1b-f609-4639-bb62-347178306326');\n",
              "          const dataTable =\n",
              "            await google.colab.kernel.invokeFunction('convertToInteractive',\n",
              "                                                     [key], {});\n",
              "          if (!dataTable) return;\n",
              "\n",
              "          const docLinkHtml = 'Like what you see? Visit the ' +\n",
              "            '<a target=\"_blank\" href=https://colab.research.google.com/notebooks/data_table.ipynb>data table notebook</a>'\n",
              "            + ' to learn more about interactive tables.';\n",
              "          element.innerHTML = '';\n",
              "          dataTable['output_type'] = 'display_data';\n",
              "          await google.colab.output.renderOutput(dataTable, element);\n",
              "          const docLink = document.createElement('div');\n",
              "          docLink.innerHTML = docLinkHtml;\n",
              "          element.appendChild(docLink);\n",
              "        }\n",
              "      </script>\n",
              "    </div>\n",
              "  </div>\n",
              "  "
            ]
          },
          "metadata": {}
        },
        {
          "output_type": "display_data",
          "data": {
            "text/plain": [
              "<Figure size 720x576 with 1 Axes>"
            ],
            "image/png": "[encoded data removed]"
          },
          "metadata": {
            "needs_background": "light"
          }
        }
      ]
    },
    {
      "cell_type": "markdown",
      "source": [
        "비디오 게임의 초기인 1970년대에는 아타리 2600이 독점하던 상황이었다.<br>\n",
        "1980년대에는 아타리 쇼크에 일본 게임이 주가 되면서 슈퍼 패미컴이 석권하는 시대로, 평균 약 1.6M의 판매량이 있었다.<br>\n",
        "1990년대에는 그 전 년대에 2위였던 게임보이가 1위로 올라섰으나, 평균적인 게임 판매량은 반 이상 줄었던 것으로 보인다.<br>\n",
        "2000년대에는 플레이스테이션이 인기를 얻어가는 것으로 보이며,<br> 이전 플레이스테이션 기종(PS, PS2 등)이 순위권 외였던 것을 고려하면, PS3 게임의 시장에서의 인지도는 상당히 높아졌다고 볼 수 있다.\n",
        "2010년대에는 PS4가 1위로 올라섰고, X360과 XOne이 뒤를 이었다.\n",
        "이러한 추세로 볼 때, 다음 년대에는 X360의 후속 세대 기기인 XOne과 PS4의 후속 세대 기기인 PS5의 시장성을 기대해 볼만 하다고 고려된다.\n"
      ],
      "metadata": {
        "id": "yTNRDF-R-di7"
      }
    },
    {
      "cell_type": "markdown",
      "source": [
        "### 연도별 장르의 변화"
      ],
      "metadata": {
        "id": "RpUyCtQimBmT"
      }
    },
    {
      "cell_type": "code",
      "source": [
        "dcd_list = []\n",
        "dcd = range(197, 202)\n",
        "for i in dcd:\n",
        "  temp = pd.DataFrame(df[(df.Year<=(i+1)*10) & (df.Year>(i)*10)].groupby(df.Genre).Sales.mean().round(2).sort_values(ascending=False)).reset_index()\n",
        "  temp.columns=pd.MultiIndex.from_product([[str((i)*10)+'s'],temp.columns])\n",
        "  dcd_list.append(temp)\n",
        "dcd_list = pd.concat(dcd_list, axis=1)\n",
        "dcd_list = dcd_list.replace(np.NaN, '')\n",
        "display(dcd_list.head(3))\n",
        "\n",
        "dcd2_list = []\n",
        "dcd = range(197, 202)\n",
        "for i in dcd:\n",
        "  temp = pd.DataFrame(df[(df.Year<=(i+1)*10) & (df.Year>(i)*10)].groupby(df.Genre).Sales.mean().round(2).sort_values(ascending=False)).reset_index().head(5)\n",
        "  dcd2_list.append(temp)\n",
        "dcd_list2 = pd.concat(dcd2_list, axis=0 , keys=dcd).reset_index()\n",
        "dcd_list2 = dcd_list2.rename(columns = {'level_0':'decade'}).drop('level_1', axis=1)\n",
        "\n",
        "dcd_list2.decade = (dcd_list2.decade*10).astype(str) + 's'\n",
        "plt.figure(figsize=(10,8))\n",
        "sns.histplot(dcd_list2, x=\"decade\", hue=\"Genre\", y=\"Sales\", binwidth=0.01)\n",
        "\n",
        "plt.show()"
      ],
      "metadata": {
        "colab": {
          "base_uri": "https://localhost:8080/",
          "height": 655
        },
        "id": "BeDaeddsiCnx",
        "outputId": "9b7818d5-0d77-4194-860b-a7b80696c64e"
      },
      "execution_count": 75,
      "outputs": [
        {
          "output_type": "display_data",
          "data": {
            "text/plain": [
              "       1970s            1980s               1990s                   2000s  \\\n",
              "       Genre Sales      Genre Sales         Genre Sales             Genre   \n",
              "0    Shooter  0.66   Platform   1.0      Platform  0.34  Action Adventure   \n",
              "1  Adventure  0.32     Puzzle  0.82  Role-Playing  0.26           Driving   \n",
              "2   Fighting  0.19  Adventure   0.6        Action   0.2          Platform   \n",
              "\n",
              "            2010s        \n",
              "  Sales     Genre Sales  \n",
              "0  0.30   Shooter   0.3  \n",
              "1  0.19  Platform  0.21  \n",
              "2  0.17    Sports  0.15  "
            ],
            "text/html": [
              "\n",
              "  <div id=\"df-9e3c4c9f-9a48-44a0-8f0f-eecb9a33a07d\">\n",
              "    <div class=\"colab-df-container\">\n",
              "      <div>\n",
              "<style scoped>\n",
              "    .dataframe tbody tr th:only-of-type {\n",
              "        vertical-align: middle;\n",
              "    }\n",
              "\n",
              "    .dataframe tbody tr th {\n",
              "        vertical-align: top;\n",
              "    }\n",
              "\n",
              "    .dataframe thead tr th {\n",
              "        text-align: left;\n",
              "    }\n",
              "</style>\n",
              "<table border=\"1\" class=\"dataframe\">\n",
              "  <thead>\n",
              "    <tr>\n",
              "      <th></th>\n",
              "      <th colspan=\"2\" halign=\"left\">1970s</th>\n",
              "      <th colspan=\"2\" halign=\"left\">1980s</th>\n",
              "      <th colspan=\"2\" halign=\"left\">1990s</th>\n",
              "      <th colspan=\"2\" halign=\"left\">2000s</th>\n",
              "      <th colspan=\"2\" halign=\"left\">2010s</th>\n",
              "    </tr>\n",
              "    <tr>\n",
              "      <th></th>\n",
              "      <th>Genre</th>\n",
              "      <th>Sales</th>\n",
              "      <th>Genre</th>\n",
              "      <th>Sales</th>\n",
              "      <th>Genre</th>\n",
              "      <th>Sales</th>\n",
              "      <th>Genre</th>\n",
              "      <th>Sales</th>\n",
              "      <th>Genre</th>\n",
              "      <th>Sales</th>\n",
              "    </tr>\n",
              "  </thead>\n",
              "  <tbody>\n",
              "    <tr>\n",
              "      <th>0</th>\n",
              "      <td>Shooter</td>\n",
              "      <td>0.66</td>\n",
              "      <td>Platform</td>\n",
              "      <td>1.0</td>\n",
              "      <td>Platform</td>\n",
              "      <td>0.34</td>\n",
              "      <td>Action Adventure</td>\n",
              "      <td>0.30</td>\n",
              "      <td>Shooter</td>\n",
              "      <td>0.3</td>\n",
              "    </tr>\n",
              "    <tr>\n",
              "      <th>1</th>\n",
              "      <td>Adventure</td>\n",
              "      <td>0.32</td>\n",
              "      <td>Puzzle</td>\n",
              "      <td>0.82</td>\n",
              "      <td>Role-Playing</td>\n",
              "      <td>0.26</td>\n",
              "      <td>Driving</td>\n",
              "      <td>0.19</td>\n",
              "      <td>Platform</td>\n",
              "      <td>0.21</td>\n",
              "    </tr>\n",
              "    <tr>\n",
              "      <th>2</th>\n",
              "      <td>Fighting</td>\n",
              "      <td>0.19</td>\n",
              "      <td>Adventure</td>\n",
              "      <td>0.6</td>\n",
              "      <td>Action</td>\n",
              "      <td>0.2</td>\n",
              "      <td>Platform</td>\n",
              "      <td>0.17</td>\n",
              "      <td>Sports</td>\n",
              "      <td>0.15</td>\n",
              "    </tr>\n",
              "  </tbody>\n",
              "</table>\n",
              "</div>\n",
              "      <button class=\"colab-df-convert\" onclick=\"convertToInteractive('df-9e3c4c9f-9a48-44a0-8f0f-eecb9a33a07d')\"\n",
              "              title=\"Convert this dataframe to an interactive table.\"\n",
              "              style=\"display:none;\">\n",
              "        \n",
              "  <svg xmlns=\"http://www.w3.org/2000/svg\" height=\"24px\"viewBox=\"0 0 24 24\"\n",
              "       width=\"24px\">\n",
              "    <path d=\"M0 0h24v24H0V0z\" fill=\"none\"/>\n",
              "    <path d=\"M18.56 5.44l.94 2.06.94-2.06 2.06-.94-2.06-.94-.94-2.06-.94 2.06-2.06.94zm-11 1L8.5 8.5l.94-2.06 2.06-.94-2.06-.94L8.5 2.5l-.94 2.06-2.06.94zm10 10l.94 2.06.94-2.06 2.06-.94-2.06-.94-.94-2.06-.94 2.06-2.06.94z\"/><path d=\"M17.41 7.96l-1.37-1.37c-.4-.4-.92-.59-1.43-.59-.52 0-1.04.2-1.43.59L10.3 9.45l-7.72 7.72c-.78.78-.78 2.05 0 2.83L4 21.41c.39.39.9.59 1.41.59.51 0 1.02-.2 1.41-.59l7.78-7.78 2.81-2.81c.8-.78.8-2.07 0-2.86zM5.41 20L4 18.59l7.72-7.72 1.47 1.35L5.41 20z\"/>\n",
              "  </svg>\n",
              "      </button>\n",
              "      \n",
              "  <style>\n",
              "    .colab-df-container {\n",
              "      display:flex;\n",
              "      flex-wrap:wrap;\n",
              "      gap: 12px;\n",
              "    }\n",
              "\n",
              "    .colab-df-convert {\n",
              "      background-color: #E8F0FE;\n",
              "      border: none;\n",
              "      border-radius: 50%;\n",
              "      cursor: pointer;\n",
              "      display: none;\n",
              "      fill: #1967D2;\n",
              "      height: 32px;\n",
              "      padding: 0 0 0 0;\n",
              "      width: 32px;\n",
              "    }\n",
              "\n",
              "    .colab-df-convert:hover {\n",
              "      background-color: #E2EBFA;\n",
              "      box-shadow: 0px 1px 2px rgba(60, 64, 67, 0.3), 0px 1px 3px 1px rgba(60, 64, 67, 0.15);\n",
              "      fill: #174EA6;\n",
              "    }\n",
              "\n",
              "    [theme=dark] .colab-df-convert {\n",
              "      background-color: #3B4455;\n",
              "      fill: #D2E3FC;\n",
              "    }\n",
              "\n",
              "    [theme=dark] .colab-df-convert:hover {\n",
              "      background-color: #434B5C;\n",
              "      box-shadow: 0px 1px 3px 1px rgba(0, 0, 0, 0.15);\n",
              "      filter: drop-shadow(0px 1px 2px rgba(0, 0, 0, 0.3));\n",
              "      fill: #FFFFFF;\n",
              "    }\n",
              "  </style>\n",
              "\n",
              "      <script>\n",
              "        const buttonEl =\n",
              "          document.querySelector('#df-9e3c4c9f-9a48-44a0-8f0f-eecb9a33a07d button.colab-df-convert');\n",
              "        buttonEl.style.display =\n",
              "          google.colab.kernel.accessAllowed ? 'block' : 'none';\n",
              "\n",
              "        async function convertToInteractive(key) {\n",
              "          const element = document.querySelector('#df-9e3c4c9f-9a48-44a0-8f0f-eecb9a33a07d');\n",
              "          const dataTable =\n",
              "            await google.colab.kernel.invokeFunction('convertToInteractive',\n",
              "                                                     [key], {});\n",
              "          if (!dataTable) return;\n",
              "\n",
              "          const docLinkHtml = 'Like what you see? Visit the ' +\n",
              "            '<a target=\"_blank\" href=https://colab.research.google.com/notebooks/data_table.ipynb>data table notebook</a>'\n",
              "            + ' to learn more about interactive tables.';\n",
              "          element.innerHTML = '';\n",
              "          dataTable['output_type'] = 'display_data';\n",
              "          await google.colab.output.renderOutput(dataTable, element);\n",
              "          const docLink = document.createElement('div');\n",
              "          docLink.innerHTML = docLinkHtml;\n",
              "          element.appendChild(docLink);\n",
              "        }\n",
              "      </script>\n",
              "    </div>\n",
              "  </div>\n",
              "  "
            ]
          },
          "metadata": {}
        },
        {
          "output_type": "display_data",
          "data": {
            "text/plain": [
              "<Figure size 720x576 with 1 Axes>"
            ],
            "image/png": "[encoded data removed]"
          },
          "metadata": {
            "needs_background": "light"
          }
        }
      ]
    },
    {
      "cell_type": "markdown",
      "source": [
        "1970년대에는 슈팅 게임이 앞섰다. 슈팅게임은 비교적 간단한 게임 구조와 조작성 덕분에 비디오 게임계 역사의 초기부터 존재하였는데, 이 시대에는 비디오게임의 대부분이 슈팅 게임이었다고 한다.<br>\n",
        "1980년대에는 슈퍼마리오 등의 플랫폼 게임이 발전하면서 플랫폼 게임의 시대가 열린 것으로 보인다. 판매량은 기존 슈팅게임의 두 배 가량 올랐다.<br>\n",
        "1990년대에는 발매량이 크게 줄었다. 연도별 다른 그래프를 보아도 1980년대는 발매량이 높다가 1990년대부터는 발매량이 크게 줄었는데, 이는 1980년대 일본의 거품경제때문에 일시적으로 1980년대의 발매량이 높았던 것으로 보인다.  <br>\n",
        "2000년대에는 액션 어드벤처 게임이라는 액션과 어드벤처 장르를 결합한 새로운 장르의 게임이 주가 되었다. 갈수록 단조로워지던 액션 게임과 그래픽이 떨어지던 어드벤처 게임의 단점을 극복하고 융합하여 가장 대중적이고 직감적인 조작성과 함께 스토리텔링 요소를 갖춘 액션 어드벤처 게임이 인기를 얻을 수 있었던 이유이다. <br>\n",
        "2010년대에는 다시 슈팅 게임의 판매량이 올랐는데, 이는 슈팅 게임이 3차원 환경을 갖추면서 1인칭 슈팅 게임인 FPS가 대중화되면서 생긴 결과이다."
      ],
      "metadata": {
        "id": "3gJXWcrc_bL9"
      }
    },
    {
      "cell_type": "markdown",
      "source": [
        "### 연도별 배급사의 변화"
      ],
      "metadata": {
        "id": "2YjU_xRV12WZ"
      }
    },
    {
      "cell_type": "code",
      "source": [
        "dcd_list = []\n",
        "dcd = range(197, 202)\n",
        "for i in dcd:\n",
        "  temp = pd.DataFrame(df[(df.Year<=(i+1)*10) & (df.Year>(i)*10)].groupby(df.Publisher).Sales.mean().round(2).sort_values(ascending=False)).reset_index()\n",
        "  temp.columns=pd.MultiIndex.from_product([[str((i)*10)+'s'],temp.columns])\n",
        "  dcd_list.append(temp)\n",
        "dcd_list = pd.concat(dcd_list, axis=1)\n",
        "dcd_list = dcd_list.replace(np.NaN, '')\n",
        "display(dcd_list.head(3))\n",
        "\n",
        "dcd2_list = []\n",
        "dcd = range(197, 202)\n",
        "for i in dcd:\n",
        "  temp = pd.DataFrame(df[(df.Year<=(i+1)*10) & (df.Year>(i)*10)].groupby(df.Publisher).Sales.mean().round(2).sort_values(ascending=False)).reset_index().head(5)\n",
        "  dcd2_list.append(temp)\n",
        "dcd_list2 = pd.concat(dcd2_list, axis=0 , keys=dcd).reset_index()\n",
        "dcd_list2 = dcd_list2.rename(columns = {'level_0':'decade'}).drop('level_1', axis=1)\n",
        "\n",
        "dcd_list2.decade = (dcd_list2.decade*10).astype(str) + 's'\n",
        "plt.figure(figsize=(10,8))\n",
        "g = sns.histplot(dcd_list2, x=\"decade\", hue=\"Publisher\", y=\"Sales\", binwidth=0.01, legend=True)\n",
        "sns.move_legend(g, \"center right\", bbox_to_anchor=(1.5, 0.5))\n",
        "\n",
        "plt.show()"
      ],
      "metadata": {
        "colab": {
          "base_uri": "https://localhost:8080/",
          "height": 655
        },
        "outputId": "8ecd4c1e-0f5f-45e2-e396-6dde44714f58",
        "id": "ksn9UQGV4SqT"
      },
      "execution_count": 81,
      "outputs": [
        {
          "output_type": "display_data",
          "data": {
            "text/plain": [
              "        1970s                   1980s                      1990s        \\\n",
              "    Publisher Sales         Publisher Sales            Publisher Sales   \n",
              "0       Atari  0.27          Nintendo  1.25              Red Orb  0.66   \n",
              "1  Activision  0.14            Palcom  1.04             Nintendo  0.64   \n",
              "2       Sears  0.05  Enix Corporation   0.8  Arena Entertainment  0.59   \n",
              "\n",
              "                                2000s                         2010s        \n",
              "                            Publisher Sales               Publisher Sales  \n",
              "0                            Nintendo  0.62                   Valve  0.43  \n",
              "1  Sony Computer Entertainment Europe  0.61                Nintendo  0.42  \n",
              "2                           RedOctane  0.54  Microsoft Game Studios  0.42  "
            ],
            "text/html": [
              "\n",
              "  <div id=\"df-149bab3f-a178-4281-a688-62d192816536\">\n",
              "    <div class=\"colab-df-container\">\n",
              "      <div>\n",
              "<style scoped>\n",
              "    .dataframe tbody tr th:only-of-type {\n",
              "        vertical-align: middle;\n",
              "    }\n",
              "\n",
              "    .dataframe tbody tr th {\n",
              "        vertical-align: top;\n",
              "    }\n",
              "\n",
              "    .dataframe thead tr th {\n",
              "        text-align: left;\n",
              "    }\n",
              "</style>\n",
              "<table border=\"1\" class=\"dataframe\">\n",
              "  <thead>\n",
              "    <tr>\n",
              "      <th></th>\n",
              "      <th colspan=\"2\" halign=\"left\">1970s</th>\n",
              "      <th colspan=\"2\" halign=\"left\">1980s</th>\n",
              "      <th colspan=\"2\" halign=\"left\">1990s</th>\n",
              "      <th colspan=\"2\" halign=\"left\">2000s</th>\n",
              "      <th colspan=\"2\" halign=\"left\">2010s</th>\n",
              "    </tr>\n",
              "    <tr>\n",
              "      <th></th>\n",
              "      <th>Publisher</th>\n",
              "      <th>Sales</th>\n",
              "      <th>Publisher</th>\n",
              "      <th>Sales</th>\n",
              "      <th>Publisher</th>\n",
              "      <th>Sales</th>\n",
              "      <th>Publisher</th>\n",
              "      <th>Sales</th>\n",
              "      <th>Publisher</th>\n",
              "      <th>Sales</th>\n",
              "    </tr>\n",
              "  </thead>\n",
              "  <tbody>\n",
              "    <tr>\n",
              "      <th>0</th>\n",
              "      <td>Atari</td>\n",
              "      <td>0.27</td>\n",
              "      <td>Nintendo</td>\n",
              "      <td>1.25</td>\n",
              "      <td>Red Orb</td>\n",
              "      <td>0.66</td>\n",
              "      <td>Nintendo</td>\n",
              "      <td>0.62</td>\n",
              "      <td>Valve</td>\n",
              "      <td>0.43</td>\n",
              "    </tr>\n",
              "    <tr>\n",
              "      <th>1</th>\n",
              "      <td>Activision</td>\n",
              "      <td>0.14</td>\n",
              "      <td>Palcom</td>\n",
              "      <td>1.04</td>\n",
              "      <td>Nintendo</td>\n",
              "      <td>0.64</td>\n",
              "      <td>Sony Computer Entertainment Europe</td>\n",
              "      <td>0.61</td>\n",
              "      <td>Nintendo</td>\n",
              "      <td>0.42</td>\n",
              "    </tr>\n",
              "    <tr>\n",
              "      <th>2</th>\n",
              "      <td>Sears</td>\n",
              "      <td>0.05</td>\n",
              "      <td>Enix Corporation</td>\n",
              "      <td>0.8</td>\n",
              "      <td>Arena Entertainment</td>\n",
              "      <td>0.59</td>\n",
              "      <td>RedOctane</td>\n",
              "      <td>0.54</td>\n",
              "      <td>Microsoft Game Studios</td>\n",
              "      <td>0.42</td>\n",
              "    </tr>\n",
              "  </tbody>\n",
              "</table>\n",
              "</div>\n",
              "      <button class=\"colab-df-convert\" onclick=\"convertToInteractive('df-149bab3f-a178-4281-a688-62d192816536')\"\n",
              "              title=\"Convert this dataframe to an interactive table.\"\n",
              "              style=\"display:none;\">\n",
              "        \n",
              "  <svg xmlns=\"http://www.w3.org/2000/svg\" height=\"24px\"viewBox=\"0 0 24 24\"\n",
              "       width=\"24px\">\n",
              "    <path d=\"M0 0h24v24H0V0z\" fill=\"none\"/>\n",
              "    <path d=\"M18.56 5.44l.94 2.06.94-2.06 2.06-.94-2.06-.94-.94-2.06-.94 2.06-2.06.94zm-11 1L8.5 8.5l.94-2.06 2.06-.94-2.06-.94L8.5 2.5l-.94 2.06-2.06.94zm10 10l.94 2.06.94-2.06 2.06-.94-2.06-.94-.94-2.06-.94 2.06-2.06.94z\"/><path d=\"M17.41 7.96l-1.37-1.37c-.4-.4-.92-.59-1.43-.59-.52 0-1.04.2-1.43.59L10.3 9.45l-7.72 7.72c-.78.78-.78 2.05 0 2.83L4 21.41c.39.39.9.59 1.41.59.51 0 1.02-.2 1.41-.59l7.78-7.78 2.81-2.81c.8-.78.8-2.07 0-2.86zM5.41 20L4 18.59l7.72-7.72 1.47 1.35L5.41 20z\"/>\n",
              "  </svg>\n",
              "      </button>\n",
              "      \n",
              "  <style>\n",
              "    .colab-df-container {\n",
              "      display:flex;\n",
              "      flex-wrap:wrap;\n",
              "      gap: 12px;\n",
              "    }\n",
              "\n",
              "    .colab-df-convert {\n",
              "      background-color: #E8F0FE;\n",
              "      border: none;\n",
              "      border-radius: 50%;\n",
              "      cursor: pointer;\n",
              "      display: none;\n",
              "      fill: #1967D2;\n",
              "      height: 32px;\n",
              "      padding: 0 0 0 0;\n",
              "      width: 32px;\n",
              "    }\n",
              "\n",
              "    .colab-df-convert:hover {\n",
              "      background-color: #E2EBFA;\n",
              "      box-shadow: 0px 1px 2px rgba(60, 64, 67, 0.3), 0px 1px 3px 1px rgba(60, 64, 67, 0.15);\n",
              "      fill: #174EA6;\n",
              "    }\n",
              "\n",
              "    [theme=dark] .colab-df-convert {\n",
              "      background-color: #3B4455;\n",
              "      fill: #D2E3FC;\n",
              "    }\n",
              "\n",
              "    [theme=dark] .colab-df-convert:hover {\n",
              "      background-color: #434B5C;\n",
              "      box-shadow: 0px 1px 3px 1px rgba(0, 0, 0, 0.15);\n",
              "      filter: drop-shadow(0px 1px 2px rgba(0, 0, 0, 0.3));\n",
              "      fill: #FFFFFF;\n",
              "    }\n",
              "  </style>\n",
              "\n",
              "      <script>\n",
              "        const buttonEl =\n",
              "          document.querySelector('#df-149bab3f-a178-4281-a688-62d192816536 button.colab-df-convert');\n",
              "        buttonEl.style.display =\n",
              "          google.colab.kernel.accessAllowed ? 'block' : 'none';\n",
              "\n",
              "        async function convertToInteractive(key) {\n",
              "          const element = document.querySelector('#df-149bab3f-a178-4281-a688-62d192816536');\n",
              "          const dataTable =\n",
              "            await google.colab.kernel.invokeFunction('convertToInteractive',\n",
              "                                                     [key], {});\n",
              "          if (!dataTable) return;\n",
              "\n",
              "          const docLinkHtml = 'Like what you see? Visit the ' +\n",
              "            '<a target=\"_blank\" href=https://colab.research.google.com/notebooks/data_table.ipynb>data table notebook</a>'\n",
              "            + ' to learn more about interactive tables.';\n",
              "          element.innerHTML = '';\n",
              "          dataTable['output_type'] = 'display_data';\n",
              "          await google.colab.output.renderOutput(dataTable, element);\n",
              "          const docLink = document.createElement('div');\n",
              "          docLink.innerHTML = docLinkHtml;\n",
              "          element.appendChild(docLink);\n",
              "        }\n",
              "      </script>\n",
              "    </div>\n",
              "  </div>\n",
              "  "
            ]
          },
          "metadata": {}
        },
        {
          "output_type": "display_data",
          "data": {
            "text/plain": [
              "<Figure size 720x576 with 1 Axes>"
            ],
            "image/png": "[encoded data removed]"
          },
          "metadata": {
            "needs_background": "light"
          }
        }
      ]
    },
    {
      "cell_type": "markdown",
      "source": [
        "1970년대에는 비디오게임이라는 분야를 개척한 기업인 아타리가 게임 산업을 장악했다.<br>\n",
        "하지만 아타리의 독과점으로 무너진 아타리 게임의 품질과 여러 라이벌 기업의 등장으로 아타리 쇼크가 발생하여 1980년대 완전히 몰락하게 되었다.<br>\n",
        "1980년대에는 닌텐도와 팔콤, 에닉스(스퀘어에닉스의 전신)등의 일본 게임기업이 주류가 되었다. 특히 일본 거품 경제와 맞물려 매출량도 상당했던 것으로 보인다. <br>\n",
        "1990년대에는 평균으로 볼 때는 레드오브 엔터테인먼트가 1위인데, 레드오브는 브로드오브 회사가 비디오게임 타이틀을 마케팅하기 위해 만든 퍼블리싱 부서로, 브로드오브로 더 잘 알려져 있다. 1993년 미스트를 발매하면서 멀티미디어 컴퓨팅의 태동기인 1990년대에 게임업계를 뒤흔든 대히트작을 만들어냈기 때문에 평균이 높게 표시된 것으로 보인다. <br>\n",
        "미스트는 수작으로 뽑혔지만 그후 수많은 아류작이 등장하면서 인기가 떨어지게 되어,\n",
        "2000년대에는 다시 닌텐도가 1위로 올라섰다.<br>\n",
        "2010년대에는 치밀한 구성과 높은 완성도, 독창적인 게임성을 높게 평가받는 밸브사의 게임이 평균 발매량이 높았다. 게임 개발에 오랜 시간을 들여 출시작은 많지 않지만, 하나 하나가 완성도가 높아 인기가 많다고 한다. 평균 발매량이 거의 비슷한 닌텐도가 2위인데, 닌텐도의 게임 수가 압도적으로 많은 것을 생각하면, 합계는 닌텐도가 가장 많은 것을 알 수 있다."
      ],
      "metadata": {
        "id": "89QepBMYEg4_"
      }
    },
    {
      "cell_type": "markdown",
      "source": [
        "# 다음 분기에 설계할 게임"
      ],
      "metadata": {
        "id": "3oft8RHBTUTv"
      }
    },
    {
      "cell_type": "code",
      "source": [
        "recent_10 = df[(df.Year>2010) & (df.Year<2017)][['Year', 'Genre', 'Sales']].groupby(['Year','Genre']).Sales.mean().round(2).sort_values(ascending=False).reset_index()\n",
        "recent_10_ratio = pd.DataFrame({'Sales_ratio' : recent_10.groupby(['Year','Genre']).Sales.sum() / recent_10.groupby('Year').Sales.sum()}).reset_index()\n",
        "plt.figure(figsize=(10,8))\n",
        "g = sns.lineplot(data = recent_10, x = 'Year', y = 'Sales', hue = 'Genre', legend=True)\n",
        "sns.move_legend(g, \"center right\", bbox_to_anchor=(1.5, 0.5))\n",
        "plt.show()\n"
      ],
      "metadata": {
        "colab": {
          "base_uri": "https://localhost:8080/",
          "height": 500
        },
        "id": "rG1RZBRvTxbh",
        "outputId": "f59ed682-ef64-4928-9fb6-ffaf6a5f864c"
      },
      "execution_count": 206,
      "outputs": [
        {
          "output_type": "display_data",
          "data": {
            "text/plain": [
              "<Figure size 720x576 with 1 Axes>"
            ],
            "image/png": "[encoded data removed]"
          },
          "metadata": {}
        }
      ]
    },
    {
      "cell_type": "code",
      "source": [
        "recent_10_pivot= recent_10_ratio.pivot(index = 'Year',columns='Genre', values = 'Sales_ratio').reset_index()\n",
        "\n",
        "recent_10_pivot.plot(\n",
        "    x = 'Year',\n",
        "    kind = 'barh',\n",
        "    stacked = True,\n",
        "    mark_right = True, legend=True, figsize = (12,8))\n",
        "\n",
        "plt.xlim([0,1.8])\n",
        "plt.show()"
      ],
      "metadata": {
        "colab": {
          "base_uri": "https://localhost:8080/",
          "height": 485
        },
        "id": "SSPoCotcoagT",
        "outputId": "5ab85d27-5cf0-4c34-ec67-006955fbb1a9"
      },
      "execution_count": 243,
      "outputs": [
        {
          "output_type": "display_data",
          "data": {
            "text/plain": [
              "<Figure size 864x576 with 1 Axes>"
            ],
            "image/png": "[encoded data removed]"
          },
          "metadata": {}
        }
      ]
    },
    {
      "cell_type": "markdown",
      "source": [
        "2017년 현재에 가까워질수록 게임 산업계는 훨씬 더 빠르게 변동하고 있습니다.<br>\n",
        "따라서 다음 분기에 설계할 게임을 찾기 위해서는 근 10년 데이터를 주로 보는 것이 알맞다고 생각됩니다.<br>\n",
        "스포츠 장르는 꾸준한 증가를 보이고 있고, <br>\n",
        "다른 분야는 액션, 격투, 플랫폼게임이 최근 증가를 보였으나 꾸준하진 않아 주의가 필요합니다.\n",
        "\n",
        "따라서 스포츠 장르를 개발하는 것이 좋다고 생각합니다\n"
      ],
      "metadata": {
        "id": "p5jK4WZ2Vl5k"
      }
    }
  ]
}